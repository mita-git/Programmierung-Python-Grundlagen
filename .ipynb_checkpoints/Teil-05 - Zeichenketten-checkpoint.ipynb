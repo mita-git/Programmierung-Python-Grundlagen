{
 "cells": [
  {
   "cell_type": "markdown",
   "id": "fb86a17a",
   "metadata": {
    "slideshow": {
     "slide_type": "slide"
    }
   },
   "source": [
    "# Teil 05: Zeichenketten"
   ]
  },
  {
   "cell_type": "markdown",
   "id": "4110a9f2",
   "metadata": {},
   "source": [
    "Eine Zeichkette ist eine Listen von Zeichen.<br>\n",
    "Zuweisung mit Hochkomma '   ' oder anführungs Zeichen \" \"<br>"
   ]
  },
  {
   "cell_type": "code",
   "execution_count": 1,
   "id": "d4b458ac",
   "metadata": {
    "slideshow": {
     "slide_type": "fragment"
    }
   },
   "outputs": [],
   "source": [
    "MyZeichenkette = \"Michael, Talarczyk; 58644; Iserlohn; 01776661133\"\n",
    "\n",
    "# help(MyZeichenkette)\n",
    "# help(str)\n",
    "# help(str.__len__)\n",
    "# help(str.replace)\n"
   ]
  },
  {
   "cell_type": "markdown",
   "id": "415371fc",
   "metadata": {},
   "source": [
    "### replace \n",
    "Der Inhalt der Variable bleibt erhalten nur beim Print geändert, oder man muss den Inhalt zurück in die Variable schreiben."
   ]
  },
  {
   "cell_type": "code",
   "execution_count": 2,
   "id": "c5620b75",
   "metadata": {
    "slideshow": {
     "slide_type": "subslide"
    }
   },
   "outputs": [
    {
     "name": "stdout",
     "output_type": "stream",
     "text": [
      "48\n",
      "Michael, Talarczyk; 58644; Dortmund; 01776661133\n",
      "Michael, Talarczyk; 58644; Iserlohn; 01776661133\n",
      "Michael, Talarczyk; 58644; Dortmund; 01776661133\n"
     ]
    }
   ],
   "source": [
    "MyZeichenkette = \"Michael, Talarczyk; 58644; Iserlohn; 01776661133\"\n",
    "\n",
    "print(len(MyZeichenkette))\n",
    "   \n",
    "print(MyZeichenkette.replace('Iserlohn','Dortmund'))\n",
    "\n",
    "print(MyZeichenkette)\n",
    "\n",
    "MyZeichenkette = MyZeichenkette.replace('Iserlohn','Dortmund')\n",
    "\n",
    "print(MyZeichenkette)"
   ]
  },
  {
   "cell_type": "markdown",
   "id": "0fea0e2a",
   "metadata": {},
   "source": [
    "#### drucke_zeichen_rueckwaerts\n",
    "\n",
    "while index != 0:<br>\n",
    "mit<br> \n",
    "index = index - 1<br>"
   ]
  },
  {
   "cell_type": "code",
   "execution_count": 3,
   "id": "aa769bd0",
   "metadata": {
    "slideshow": {
     "slide_type": "slide"
    }
   },
   "outputs": [],
   "source": [
    "def drucke_zeichen_rueckwaerts(zeichenkette):\n",
    "    index = len(zeichenkette)\n",
    "#    print(\"Debug: \",index,\"Länge:\",len(zeichenkette))\n",
    "    while index != 0:\n",
    "        index = index - 1\n",
    "        zeichen = zeichenkette[index]                   # Zugriff aus ein Zeichen der Zeichenkette wie bei Listen\n",
    "        # print(index,zeichen,end='|')\n",
    "        print(zeichen,end='')"
   ]
  },
  {
   "cell_type": "code",
   "execution_count": 4,
   "id": "f908dd7a",
   "metadata": {
    "slideshow": {
     "slide_type": "fragment"
    }
   },
   "outputs": [
    {
     "name": "stdout",
     "output_type": "stream",
     "text": [
      "33116667710 ;nholresI ;44685 ;kyzcralaT ,leahciM"
     ]
    }
   ],
   "source": [
    "MyZeichenkette = \"Michael, Talarczyk; 58644; Iserlohn; 01776661133\"\n",
    "\n",
    "drucke_zeichen_rueckwaerts(MyZeichenkette)"
   ]
  },
  {
   "cell_type": "markdown",
   "id": "da415e5e",
   "metadata": {},
   "source": [
    "### find"
   ]
  },
  {
   "cell_type": "code",
   "execution_count": 5,
   "id": "bee5c955",
   "metadata": {
    "slideshow": {
     "slide_type": "slide"
    }
   },
   "outputs": [],
   "source": [
    "def extrahiere_zeichen(zeichenkette,zeichen):\n",
    "    if zeichen in zeichenkette:\n",
    "        print(zeichenkette.strip())                            # löscht Leerzeichen am Anfang und Ende\n",
    "        start=0\n",
    "        posistionA=0\n",
    "        while True:                                            # while True\n",
    "            posistion=zeichenkette.find(zeichen,start)         # Sucht das erste autreten des Zeichen\n",
    "            if posistion == -1:\n",
    "                break\n",
    "            else:\n",
    "                start=posistion+1\n",
    "                print(\"An Pos\",posistion,\"ist\",zeichen)\n",
    "                # print(zeichenkette[posistionA:posistion].strip())\n",
    "                posistionA=start\n",
    "    # print(zeichenkette[posistionA:].strip())\n",
    "    return"
   ]
  },
  {
   "cell_type": "code",
   "execution_count": 6,
   "id": "4bea9f17",
   "metadata": {
    "slideshow": {
     "slide_type": "fragment"
    }
   },
   "outputs": [
    {
     "name": "stdout",
     "output_type": "stream",
     "text": [
      "Michael, Talarczyk; 58644; Iserlohn; 01776661133\n",
      "An Pos 18 ist ;\n",
      "An Pos 25 ist ;\n",
      "An Pos 35 ist ;\n"
     ]
    }
   ],
   "source": [
    "extrahiere_zeichen(MyZeichenkette,';')"
   ]
  },
  {
   "cell_type": "markdown",
   "id": "4c01f8f2",
   "metadata": {},
   "source": [
    "### lower, count "
   ]
  },
  {
   "cell_type": "code",
   "execution_count": 7,
   "id": "8842d2dc",
   "metadata": {
    "slideshow": {
     "slide_type": "slide"
    }
   },
   "outputs": [],
   "source": [
    "def count_vocals(text):\n",
    "    Anzahl = 0\n",
    "    vocals = ['a','e','i','o','u']\n",
    "    lowertext=text.lower()                               # wandelt alle Großbuchstaben in Kleinbuchstaben um\n",
    "#    print(lowertext)\n",
    "    for vocal in vocals:\n",
    "        print(vocal,\"*\",lowertext.count(vocal))          # Gibt die Anzahl der Zeinen in eine Zeichenkette zurück\n",
    "        Anzahl = Anzahl + lowertext.count(vocal)\n",
    "   \n",
    "    return Anzahl"
   ]
  },
  {
   "cell_type": "code",
   "execution_count": 8,
   "id": "44bcc31e",
   "metadata": {
    "slideshow": {
     "slide_type": "fragment"
    }
   },
   "outputs": [
    {
     "name": "stdout",
     "output_type": "stream",
     "text": [
      "a * 3\n",
      "e * 2\n",
      "i * 2\n",
      "o * 1\n",
      "u * 0\n"
     ]
    },
    {
     "data": {
      "text/plain": [
       "8"
      ]
     },
     "execution_count": 8,
     "metadata": {},
     "output_type": "execute_result"
    }
   ],
   "source": [
    "count_vocals(MyZeichenkette)"
   ]
  },
  {
   "cell_type": "markdown",
   "id": "fafc0f8c",
   "metadata": {},
   "source": [
    "### split, strip\n",
    "Split: Gibt eine Liste der Wörter in der Zeichenfolge zurück, wobei sep als Trennzeichenfolge verwendet wird.<br>\n",
    "Strip: Gibt eine Kopie der Zeichenfolge zurück, wobei führende und abschließende Leerzeichen entfernt wurden.<br>"
   ]
  },
  {
   "cell_type": "code",
   "execution_count": 9,
   "id": "52852cf1",
   "metadata": {},
   "outputs": [
    {
     "name": "stdout",
     "output_type": "stream",
     "text": [
      "['Michael, Talarczyk', ' 58644', ' Iserlohn', ' 01776661133']\n",
      "Michael, Talarczyk\n",
      "58644\n",
      "Iserlohn\n",
      "01776661133\n"
     ]
    }
   ],
   "source": [
    "# Split String\n",
    "# help(str.split)\n",
    "# help(str.strip)\n",
    "     \n",
    "print(MyZeichenkette.split(';'))\n",
    "for Part in MyZeichenkette.split(';'):\n",
    "    print(Part.strip())"
   ]
  }
 ],
 "metadata": {
  "celltoolbar": "Slideshow",
  "kernelspec": {
   "display_name": "Python 3 (ipykernel)",
   "language": "python",
   "name": "python3"
  },
  "language_info": {
   "codemirror_mode": {
    "name": "ipython",
    "version": 3
   },
   "file_extension": ".py",
   "mimetype": "text/x-python",
   "name": "python",
   "nbconvert_exporter": "python",
   "pygments_lexer": "ipython3",
   "version": "3.9.13"
  }
 },
 "nbformat": 4,
 "nbformat_minor": 5
}
