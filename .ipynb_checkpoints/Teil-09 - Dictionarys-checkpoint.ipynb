{
 "cells": [
  {
   "cell_type": "markdown",
   "id": "083cc160",
   "metadata": {},
   "source": [
    "# Teil 09 - Dictionarys\n",
    "Quelle: Python für alle - ISBN 979-8-42547-509-1"
   ]
  },
  {
   "cell_type": "markdown",
   "id": "83be09d3",
   "metadata": {},
   "source": [
    "## Was ist ein Dictionary"
   ]
  },
  {
   "cell_type": "markdown",
   "id": "3a5b5b7c",
   "metadata": {},
   "source": [
    "Man legt eine Akten unter einem geeigneten Stichwort an, z. B. dem Namen einer Person.<br>\n",
    "In diesem Kapitel geht es um Dictionarys, einem zusammengesetzten Datentyp in Python, mit dem Ablage- und Zugriffsmöglichkeiten für beliebige Daten möglich sind."
   ]
  },
  {
   "cell_type": "code",
   "execution_count": 1,
   "id": "7a5534eb",
   "metadata": {},
   "outputs": [
    {
     "name": "stdout",
     "output_type": "stream",
     "text": [
      "{}\n",
      "{'Michael': 'Talarczyk'}\n"
     ]
    }
   ],
   "source": [
    "Person = dict()\n",
    "print(Person)\n",
    "Person['Michael'] = 'Talarczyk'\n",
    "print(Person)"
   ]
  },
  {
   "cell_type": "code",
   "execution_count": 2,
   "id": "79f36e9a",
   "metadata": {},
   "outputs": [
    {
     "name": "stdout",
     "output_type": "stream",
     "text": [
      "{'Michael': 'Talarczyk', 'Jutta': 'Kluke', 'Anke': 'Lindner'}\n"
     ]
    }
   ],
   "source": [
    "Personen = {'Michael': 'Talarczyk','Jutta':'Kluke','Anke':'Lindner'}\n",
    "print(Personen)"
   ]
  },
  {
   "cell_type": "code",
   "execution_count": 3,
   "id": "7b10fe8a",
   "metadata": {},
   "outputs": [
    {
     "name": "stdout",
     "output_type": "stream",
     "text": [
      "Lindner\n"
     ]
    }
   ],
   "source": [
    "print(Personen['Anke'])"
   ]
  },
  {
   "cell_type": "markdown",
   "id": "92521835",
   "metadata": {},
   "source": [
    "### Funbktion len"
   ]
  },
  {
   "cell_type": "code",
   "execution_count": 4,
   "id": "ddb2350b",
   "metadata": {},
   "outputs": [
    {
     "data": {
      "text/plain": [
       "3"
      ]
     },
     "execution_count": 4,
     "metadata": {},
     "output_type": "execute_result"
    }
   ],
   "source": [
    "len(Personen)"
   ]
  },
  {
   "cell_type": "markdown",
   "id": "4bf470ed",
   "metadata": {},
   "source": [
    "### in-Operator "
   ]
  },
  {
   "cell_type": "code",
   "execution_count": 5,
   "id": "40f2da4b",
   "metadata": {},
   "outputs": [
    {
     "data": {
      "text/plain": [
       "True"
      ]
     },
     "execution_count": 5,
     "metadata": {},
     "output_type": "execute_result"
    }
   ],
   "source": [
    "'Jutta' in Personen"
   ]
  },
  {
   "cell_type": "markdown",
   "id": "1afc9234",
   "metadata": {},
   "source": [
    "### Methode keys()"
   ]
  },
  {
   "cell_type": "code",
   "execution_count": 6,
   "id": "b452c658",
   "metadata": {},
   "outputs": [
    {
     "name": "stdout",
     "output_type": "stream",
     "text": [
      "['Michael', 'Jutta', 'Anke']\n"
     ]
    }
   ],
   "source": [
    "ListeDerKeys = list(Personen.keys())\n",
    "print(ListeDerKeys)"
   ]
  },
  {
   "cell_type": "code",
   "execution_count": 7,
   "id": "63802dd9",
   "metadata": {},
   "outputs": [
    {
     "name": "stdout",
     "output_type": "stream",
     "text": [
      "Anke Lindner\n",
      "Jutta Kluke\n",
      "Michael Talarczyk\n"
     ]
    }
   ],
   "source": [
    "ListeDerKeys.sort()\n",
    "for Key in ListeDerKeys:\n",
    "    print(Key, Personen[Key])"
   ]
  },
  {
   "cell_type": "code",
   "execution_count": 8,
   "id": "632b11df",
   "metadata": {},
   "outputs": [
    {
     "name": "stdout",
     "output_type": "stream",
     "text": [
      "{'Michael': 'Talarczyk', 'Jutta': 'Kluke', 'Anke': 'Lindner'}\n"
     ]
    }
   ],
   "source": [
    "# Sort hast das Dictionary nicht verändert\n",
    "print(Personen)"
   ]
  },
  {
   "cell_type": "markdown",
   "id": "0d97c583",
   "metadata": {},
   "source": [
    "### Ein Dictionary von Listen"
   ]
  },
  {
   "cell_type": "code",
   "execution_count": 9,
   "id": "bf0f1ed1",
   "metadata": {},
   "outputs": [],
   "source": [
    "AktePersonen = {}\n",
    "AktePersonen = {'Mita': ['Michael','Talarczyk','01776661133','58644 Iserlohn'],'JuKl':['Jutta','Kluke','gesch.'],'AnLi':['Anke','Lindner','geb. Talarczyk']}"
   ]
  },
  {
   "cell_type": "code",
   "execution_count": 10,
   "id": "3a135dc7",
   "metadata": {},
   "outputs": [
    {
     "name": "stdout",
     "output_type": "stream",
     "text": [
      "{'Mita': ['Michael', 'Talarczyk', '01776661133', '58644 Iserlohn'], 'JuKl': ['Jutta', 'Kluke', 'gesch.'], 'AnLi': ['Anke', 'Lindner', 'geb. Talarczyk']}\n"
     ]
    }
   ],
   "source": [
    "print(AktePersonen)"
   ]
  },
  {
   "cell_type": "code",
   "execution_count": 11,
   "id": "ca2763ca",
   "metadata": {},
   "outputs": [
    {
     "name": "stdout",
     "output_type": "stream",
     "text": [
      "Anke\n",
      "Lindner\n",
      "geb. Talarczyk\n",
      "---------------\n",
      "Jutta\n",
      "Kluke\n",
      "gesch.\n",
      "---------------\n",
      "Michael\n",
      "Talarczyk\n",
      "01776661133\n",
      "58644 Iserlohn\n",
      "---------------\n"
     ]
    }
   ],
   "source": [
    "ListeDerKeys = []\n",
    "ListeDerKeys = list(AktePersonen.keys())\n",
    "ListeDerKeys.sort()\n",
    "for Key in ListeDerKeys:\n",
    "    for Element in AktePersonen[Key]:\n",
    "        print(Element)\n",
    "    print('---------------')"
   ]
  },
  {
   "cell_type": "markdown",
   "id": "7f1fb1b7",
   "metadata": {},
   "source": [
    "### Ein Dictionary zum Zählen verwenden"
   ]
  },
  {
   "cell_type": "raw",
   "id": "559b32d2",
   "metadata": {},
   "source": [
    "# Fehlt noch z.B. Zählen von Vokalen -> Ergebnis in Dictionary"
   ]
  },
  {
   "cell_type": "markdown",
   "id": "bf5e7d80",
   "metadata": {},
   "source": [
    "### Dictionarys und Dateien"
   ]
  },
  {
   "cell_type": "raw",
   "id": "f967821e",
   "metadata": {},
   "source": [
    "# Zählen von Worten in Texten"
   ]
  },
  {
   "cell_type": "code",
   "execution_count": 12,
   "id": "5d684dc4",
   "metadata": {},
   "outputs": [
    {
     "name": "stdout",
     "output_type": "stream",
     "text": [
      "C:/Users/micha/ki-studium/Programmieren/Pro_Ki-Klausurvorbereitung/Grundlagen-der-Programmierung/Neu.txt\n",
      "{}\n"
     ]
    }
   ],
   "source": [
    "from tkinter.filedialog import askopenfilename\n",
    "import codecs \n",
    "\n",
    "filepath = askopenfilename ( \n",
    "    # Dateitypen die geöffnet werden können\n",
    "    filetypes=[(\"Text\", \"*.txt\")]\n",
    ")\n",
    "print(filepath)\n",
    "fname = filepath\n",
    "# fname = input('Enter the file name: ')\n",
    "try:\n",
    "    fhand = open(fname,encoding='utf8')\n",
    "except:\n",
    "    print('File cannot be opened:', fname)\n",
    "    exit()\n",
    "\n",
    "counts = dict()\n",
    "for line in fhand:\n",
    "    words = line.split()\n",
    "    for word in words:\n",
    "        if word not in counts:\n",
    "            counts[word] = 1\n",
    "        else:\n",
    "            counts[word] += 1\n",
    "\n",
    "print(counts)\n",
    "quit()"
   ]
  },
  {
   "cell_type": "code",
   "execution_count": 13,
   "id": "fb2eb2d3",
   "metadata": {},
   "outputs": [],
   "source": [
    "# help(open)"
   ]
  }
 ],
 "metadata": {
  "kernelspec": {
   "display_name": "Python 3 (ipykernel)",
   "language": "python",
   "name": "python3"
  },
  "language_info": {
   "codemirror_mode": {
    "name": "ipython",
    "version": 3
   },
   "file_extension": ".py",
   "mimetype": "text/x-python",
   "name": "python",
   "nbconvert_exporter": "python",
   "pygments_lexer": "ipython3",
   "version": "3.9.13"
  }
 },
 "nbformat": 4,
 "nbformat_minor": 5
}
