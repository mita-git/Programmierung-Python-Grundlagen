{
 "cells": [
  {
   "cell_type": "markdown",
   "id": "5a66cdbe",
   "metadata": {},
   "source": [
    "# DuV-Termin2-NumPy-Dateien"
   ]
  },
  {
   "cell_type": "markdown",
   "id": "29a1ad73",
   "metadata": {},
   "source": [
    "## 4.4 Dateiein- und -ausgabe bei Arrays"
   ]
  },
  {
   "cell_type": "markdown",
   "id": "18641a4a",
   "metadata": {},
   "source": [
    "NumPy ist in der Lage, Daten sowohl im **Text- als auch im Binärformat** auf der Festplatte zu **speichern** und von ihr zu **laden**.<br>\n",
    "- in NumPy eingebaute Binärformat<br>\n",
    "\n",
    "**np.save** und **np.load** sind die zwei Arbeitspferde zum effizienten Speichern und Laden von Array-Daten auf und von der Platte. Arrays werden standardmäßig in einem unkomprimierten rohen Binärformat mit der Dateierweiterung .npy gespeichert:<br>"
   ]
  },
  {
   "cell_type": "code",
   "execution_count": 6,
   "id": "b3b9e647",
   "metadata": {},
   "outputs": [
    {
     "data": {
      "text/plain": [
       "array([0, 1, 2, 3, 4, 5, 6, 7, 8, 9])"
      ]
     },
     "execution_count": 6,
     "metadata": {},
     "output_type": "execute_result"
    }
   ],
   "source": [
    "import numpy as np\n",
    "NpArr10 = np.arange(10)\n",
    "NpArr10"
   ]
  },
  {
   "cell_type": "code",
   "execution_count": 16,
   "id": "46ce7023",
   "metadata": {},
   "outputs": [
    {
     "name": "stdout",
     "output_type": "stream",
     "text": [
      " Datentr„ger in Laufwerk C: ist Local Disk\n",
      " Volumeseriennummer: 82EE-7974\n",
      "\n",
      " Verzeichnis von C:\\Users\\micha\\ki-studium\\Datenanalyse und Visualisierung\\DuV-Termin-02\n",
      "\n",
      "02.03.2023  14:53               168 some_array.npy\n",
      "               1 Datei(en),            168 Bytes\n",
      "               0 Verzeichnis(se), 344.452.456.448 Bytes frei\n"
     ]
    }
   ],
   "source": [
    "np.save('some_array', NpArr10)\n",
    "# Sollte der Dateipfad noch nicht auf .npy enden, wird die Erweiterung angehängt\n",
    "!dir *.np*"
   ]
  },
  {
   "cell_type": "code",
   "execution_count": 15,
   "id": "a29a6a9a",
   "metadata": {},
   "outputs": [
    {
     "data": {
      "text/plain": [
       "array([0, 1, 2, 3, 4, 5, 6, 7, 8, 9])"
      ]
     },
     "execution_count": 15,
     "metadata": {},
     "output_type": "execute_result"
    }
   ],
   "source": [
    "some_other_array = np.load('some_array.npy')\n",
    "some_other_array"
   ]
  },
  {
   "cell_type": "code",
   "execution_count": 22,
   "id": "da56ff65",
   "metadata": {},
   "outputs": [
    {
     "name": "stdout",
     "output_type": "stream",
     "text": [
      " Datentr„ger in Laufwerk C: ist Local Disk\n",
      " Volumeseriennummer: 82EE-7974\n",
      "\n",
      " Verzeichnis von C:\\Users\\micha\\ki-studium\\Datenanalyse und Visualisierung\\DuV-Termin-02\n",
      "\n",
      "02.03.2023  14:55               570 array_archive.npz\n",
      "02.03.2023  14:53               168 some_array.npy\n",
      "               2 Datei(en),            738 Bytes\n",
      "               0 Verzeichnis(se), 344.454.504.448 Bytes frei\n"
     ]
    }
   ],
   "source": [
    "# Zum Speichern mehrerer Arrays in einem unkomprimierten Archiv nutzen Sie np.savez \n",
    "# und übergeben die Arrays als Schlüsselwortargumente\n",
    "np.savez('array_archive.npz', a=NpArr10, b=some_other_array*2)\n",
    "!dir *.np*"
   ]
  },
  {
   "cell_type": "code",
   "execution_count": 23,
   "id": "294c3a27",
   "metadata": {},
   "outputs": [
    {
     "name": "stdout",
     "output_type": "stream",
     "text": [
      "[0 1 2 3 4 5 6 7 8 9]\n",
      "[ 0  2  4  6  8 10 12 14 16 18]\n"
     ]
    }
   ],
   "source": [
    "arch = np.load('array_archive.npz')\n",
    "print(arch['a'])\n",
    "print(arch['b'])"
   ]
  },
  {
   "cell_type": "code",
   "execution_count": 24,
   "id": "f1633880",
   "metadata": {},
   "outputs": [
    {
     "name": "stdout",
     "output_type": "stream",
     "text": [
      " Datentr„ger in Laufwerk C: ist Local Disk\n",
      " Volumeseriennummer: 82EE-7974\n",
      "\n",
      " Verzeichnis von C:\\Users\\micha\\ki-studium\\Datenanalyse und Visualisierung\\DuV-Termin-02\n",
      "\n",
      "02.03.2023  14:55               570 array_archive.npz\n",
      "02.03.2023  14:59               422 array_compressed.npz\n",
      "02.03.2023  14:53               168 some_array.npy\n",
      "               3 Datei(en),          1.160 Bytes\n",
      "               0 Verzeichnis(se), 344.456.921.088 Bytes frei\n"
     ]
    }
   ],
   "source": [
    "# Lassen sich Ihre Daten gut komprimieren, könnten Sie stattdessen numpy.savez_compressed benutzen\n",
    "np.savez_compressed('array_compressed.npz', a=NpArr10*2, b=some_other_array**2)\n",
    "!dir *.np*"
   ]
  },
  {
   "cell_type": "code",
   "execution_count": 26,
   "id": "c34e0b25",
   "metadata": {},
   "outputs": [
    {
     "name": "stdout",
     "output_type": "stream",
     "text": [
      "[ 0  2  4  6  8 10 12 14 16 18]\n",
      "[ 0  1  4  9 16 25 36 49 64 81]\n"
     ]
    }
   ],
   "source": [
    "arch = np.load('array_compressed.npz')\n",
    "print(arch['a'])\n",
    "print(arch['b'])"
   ]
  }
 ],
 "metadata": {
  "kernelspec": {
   "display_name": "Python 3 (ipykernel)",
   "language": "python",
   "name": "python3"
  },
  "language_info": {
   "codemirror_mode": {
    "name": "ipython",
    "version": 3
   },
   "file_extension": ".py",
   "mimetype": "text/x-python",
   "name": "python",
   "nbconvert_exporter": "python",
   "pygments_lexer": "ipython3",
   "version": "3.9.13"
  }
 },
 "nbformat": 4,
 "nbformat_minor": 5
}
