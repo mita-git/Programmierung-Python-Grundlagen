{
 "cells": [
  {
   "cell_type": "markdown",
   "id": "11b3f0d7",
   "metadata": {},
   "source": [
    "# Teil 10 - Tupel\n",
    "Quelle: Python für alle - ISBN 979-8-42547-509-1"
   ]
  },
  {
   "cell_type": "markdown",
   "id": "1f114f52",
   "metadata": {},
   "source": [
    "**Ein Tupel ist eine Folge von Werten.**<br>\n",
    "Die in einem Tupel gespeicherten Werte können von beliebigem Typ sein und sie werden durch Ganzzahlen indiziert. <br>\n",
    "Im Gegensatz zu Listen können bei einem Tupel die einzelnen Werte zur Laufzeit des Programms nicht verändert werden.<br>"
   ]
  },
  {
   "cell_type": "code",
   "execution_count": 16,
   "id": "b80e2b1c",
   "metadata": {},
   "outputs": [
    {
     "data": {
      "text/plain": [
       "tuple"
      ]
     },
     "execution_count": 16,
     "metadata": {},
     "output_type": "execute_result"
    }
   ],
   "source": [
    "t1 = 'a', 'b', 'c', 'd', 'e'\n",
    "type(t1)"
   ]
  },
  {
   "cell_type": "code",
   "execution_count": 17,
   "id": "661bd506",
   "metadata": {},
   "outputs": [
    {
     "data": {
      "text/plain": [
       "tuple"
      ]
     },
     "execution_count": 17,
     "metadata": {},
     "output_type": "execute_result"
    }
   ],
   "source": [
    "t2 = ('a', 'b', 'c', 'd', 'e')\n",
    "type(t2)"
   ]
  },
  {
   "cell_type": "markdown",
   "id": "4059b664",
   "metadata": {},
   "source": [
    "Um ein Tupel mit einem einzelnen Element zu erstellen, müssen wir das abschließende Komma einfügen:"
   ]
  },
  {
   "cell_type": "code",
   "execution_count": 18,
   "id": "a85d3223",
   "metadata": {},
   "outputs": [
    {
     "data": {
      "text/plain": [
       "tuple"
      ]
     },
     "execution_count": 18,
     "metadata": {},
     "output_type": "execute_result"
    }
   ],
   "source": [
    "t3 = (1,)\n",
    "type(t3)\n"
   ]
  },
  {
   "cell_type": "markdown",
   "id": "ef96290b",
   "metadata": {},
   "source": [
    "Listen in [] Tupel in () "
   ]
  },
  {
   "cell_type": "code",
   "execution_count": 19,
   "id": "3e58f00e",
   "metadata": {},
   "outputs": [
    {
     "data": {
      "text/plain": [
       "list"
      ]
     },
     "execution_count": 19,
     "metadata": {},
     "output_type": "execute_result"
    }
   ],
   "source": [
    "l1 = ['a', 'b', 'c']\n",
    "type(l1)"
   ]
  },
  {
   "cell_type": "code",
   "execution_count": 20,
   "id": "22d94077",
   "metadata": {},
   "outputs": [
    {
     "name": "stdout",
     "output_type": "stream",
     "text": [
      "()\n"
     ]
    },
    {
     "data": {
      "text/plain": [
       "tuple"
      ]
     },
     "execution_count": 20,
     "metadata": {},
     "output_type": "execute_result"
    }
   ],
   "source": [
    "t4 = tuple()\n",
    "# ist der Leere Tuple\n",
    "print(t4)\n",
    "type(t4)"
   ]
  },
  {
   "cell_type": "markdown",
   "id": "08b0e0d2",
   "metadata": {},
   "source": [
    "Der Indexoperator indiziert ein Element:"
   ]
  },
  {
   "cell_type": "code",
   "execution_count": 21,
   "id": "d8ff273b",
   "metadata": {},
   "outputs": [
    {
     "name": "stdout",
     "output_type": "stream",
     "text": [
      "a\n"
     ]
    }
   ],
   "source": [
    ">>> t = ('a', 'b', 'c', 'd', 'e')\n",
    ">>> print(t[0])"
   ]
  },
  {
   "cell_type": "markdown",
   "id": "d240b103",
   "metadata": {},
   "source": [
    "Und der Slice-Operator selektiert einen Bereich von Elementen."
   ]
  },
  {
   "cell_type": "code",
   "execution_count": 22,
   "id": "e478bc80",
   "metadata": {},
   "outputs": [
    {
     "name": "stdout",
     "output_type": "stream",
     "text": [
      "('b', 'c', 'd')\n"
     ]
    }
   ],
   "source": [
    ">>> print(t[1:4])"
   ]
  },
  {
   "cell_type": "markdown",
   "id": "9febfe89",
   "metadata": {},
   "source": [
    "**Vergleichen von Tupeln**\n",
    "Um zwei Tupel in Python zu vergleichen, kann man die Vergleichsoperatoren wie \"==\" oder \"<>\" verwenden. Wenn man die Elemente der Tupel vergleichen möchte, sollte man die \"all()\"-Funktion verwenden, um zu prüfen, ob alle Elemente in einem Tupel einer Bedingung entsprechen. <br>\n",
    "Um zu überprüfen, ob alle Elemente in den Tupeln kleiner als 5 sind, können wir all() verwenden: <br>\n",
    "all(x < 5 for x in t1) and all(x < 5 for x in t2)<br>\n"
   ]
  },
  {
   "cell_type": "code",
   "execution_count": 23,
   "id": "63aba8b4",
   "metadata": {},
   "outputs": [
    {
     "name": "stdout",
     "output_type": "stream",
     "text": [
      "True\n",
      "True\n",
      "False\n"
     ]
    }
   ],
   "source": [
    "# Beispiel\n",
    "t1 = (1, 2, 3)\n",
    "t2 = (1, 2, 3)\n",
    "print(t1 == t2)\n",
    "print(all(x < 5 for x in t1))\n",
    "print(all(x < 2 for x in t1))\n"
   ]
  },
  {
   "cell_type": "code",
   "execution_count": 24,
   "id": "095fe4e8",
   "metadata": {},
   "outputs": [
    {
     "data": {
      "text/plain": [
       "False"
      ]
     },
     "execution_count": 24,
     "metadata": {},
     "output_type": "execute_result"
    }
   ],
   "source": [
    "(0, 4, 50) < (0, 3, 5)"
   ]
  },
  {
   "cell_type": "code",
   "execution_count": 25,
   "id": "bc6deeff",
   "metadata": {},
   "outputs": [
    {
     "data": {
      "text/plain": [
       "True"
      ]
     },
     "execution_count": 25,
     "metadata": {},
     "output_type": "execute_result"
    }
   ],
   "source": [
    "(0, 2, 5) < (0, 3, 5)"
   ]
  },
  {
   "cell_type": "code",
   "execution_count": 26,
   "id": "d83fcb2e",
   "metadata": {},
   "outputs": [
    {
     "name": "stdout",
     "output_type": "stream",
     "text": [
      "False\n",
      "True\n"
     ]
    }
   ],
   "source": [
    "print((0, 1, 2) > (0, 3, 4))\n",
    "print((0, 3, 4) > (0, 1, 2)) \n"
   ]
  },
  {
   "cell_type": "markdown",
   "id": "a72884a7",
   "metadata": {},
   "source": [
    "**Die Funktion tupel() von einem String**"
   ]
  },
  {
   "cell_type": "code",
   "execution_count": 27,
   "id": "1cba756f",
   "metadata": {},
   "outputs": [
    {
     "name": "stdout",
     "output_type": "stream",
     "text": [
      "('M', 'i', 'c', 'h', 'a', 'e', 'l', ' ', 'T', 'a', 'l', 'a', 'r', 'c', 'z', 'y', 'k')\n",
      "('M', 'i', 'c', 'h', 'a', 'e', 'l', ' ', 'T', 'a', 'l', 'a', 'r', 'c', 'z', 'y', 'k')\n"
     ]
    }
   ],
   "source": [
    "Tal = tuple('Michael Talarczyk')\n",
    "print(Tal)\n",
    "print(Tal)"
   ]
  },
  {
   "cell_type": "markdown",
   "id": "a4037110",
   "metadata": {},
   "source": [
    "## Tupel-Zuweisung"
   ]
  },
  {
   "cell_type": "code",
   "execution_count": 28,
   "id": "7c9740ff",
   "metadata": {},
   "outputs": [
    {
     "name": "stdout",
     "output_type": "stream",
     "text": [
      "have\n",
      "fun\n"
     ]
    }
   ],
   "source": [
    "m = [ 'have', 'fun' ]\n",
    "x, y = m\n",
    "print(x) \n",
    "\n",
    "print(y) \n"
   ]
  },
  {
   "cell_type": "code",
   "execution_count": 29,
   "id": "26b1bec8",
   "metadata": {},
   "outputs": [
    {
     "name": "stdout",
     "output_type": "stream",
     "text": [
      "Michael\n",
      "Talarczyk\n"
     ]
    }
   ],
   "source": [
    "# ebenso gültige Schreibweise:\n",
    "m = [ 'Michael', 'Talarczyk' ]\n",
    "(x, y) = m\n",
    "print(x) \n",
    "\n",
    "print(y) \n"
   ]
  },
  {
   "cell_type": "markdown",
   "id": "a2cb9ae4",
   "metadata": {},
   "source": [
    "### Tauschen der Werte von Variablen"
   ]
  },
  {
   "cell_type": "code",
   "execution_count": 30,
   "id": "5ceea70b",
   "metadata": {},
   "outputs": [
    {
     "name": "stdout",
     "output_type": "stream",
     "text": [
      "a ist B\n",
      "b ist A\n"
     ]
    }
   ],
   "source": [
    "# Eine besonders clevere Anwendung der Tupel-Zuweisung erlaubt es uns, die Werte\n",
    "# zweier Variablen in einer einzigen Anweisung zu tauschen: \n",
    "a = \"A\"\n",
    "b = \"B\"\n",
    "a,b = b,a\n",
    "print(\"a ist\",a)\n",
    "print(\"b ist\",b)"
   ]
  },
  {
   "cell_type": "markdown",
   "id": "f1cec8e2",
   "metadata": {},
   "source": [
    "### vorangestellten Asterisk *"
   ]
  },
  {
   "cell_type": "markdown",
   "id": "0f6486db",
   "metadata": {},
   "source": [
    "Python, als dynamisch typisierte Programmiersprache, wird zur Laufzeit entscheiden, welche Werte a und b bekommen sollen.<br>\n",
    "Mit einem vorangestellten Sternchen * (englisch Asterisk) können wir ein Teil des Tupel einer Liste zuweisen.<br>\n",
    "Es darf nur eine \"starred expressions\" geben."
   ]
  },
  {
   "cell_type": "code",
   "execution_count": 31,
   "id": "28c2dea2",
   "metadata": {},
   "outputs": [
    {
     "name": "stdout",
     "output_type": "stream",
     "text": [
      "a,b,c,d ist 1 [2, 3, 4] 5 6\n"
     ]
    }
   ],
   "source": [
    "a, *b, c , d= (1,2,3,4,5,6)\n",
    "print ('a,b,c,d ist',a,b,c,d)"
   ]
  },
  {
   "cell_type": "code",
   "execution_count": 32,
   "id": "9d2cca07",
   "metadata": {},
   "outputs": [
    {
     "name": "stdout",
     "output_type": "stream",
     "text": [
      "michael\n",
      "talarczyk.de\n"
     ]
    }
   ],
   "source": [
    "addr = 'michael@talarczyk.de'\n",
    "uname, domain = addr.split('@')\n",
    "print(uname)\n",
    "print(domain)"
   ]
  },
  {
   "cell_type": "markdown",
   "id": "35f45d7c",
   "metadata": {},
   "source": [
    "## Dictionarys und Tupel"
   ]
  },
  {
   "attachments": {
    "image.png": {
     "image/png": "[encoded data removed]"
    }
   },
   "cell_type": "markdown",
   "id": "5b7c9870",
   "metadata": {},
   "source": [
    "Im Buch auf PDF-Seite 156<br>\n",
    "**Ich glaube die Definition von d ist im Buch falsch.**\n",
    "![image.png](attachment:image.png)"
   ]
  },
  {
   "cell_type": "code",
   "execution_count": 33,
   "id": "bd719630",
   "metadata": {},
   "outputs": [
    {
     "name": "stdout",
     "output_type": "stream",
     "text": [
      "[('b', 1), ('a', 10), ('c', 22)]\n"
     ]
    }
   ],
   "source": [
    "dDictionarys = {'b':1, 'a':10, 'c':22}\n",
    "tList = list(dDictionarys.items())\n",
    "print(tList)\n"
   ]
  },
  {
   "attachments": {
    "image.png": {
     "image/png": "[encoded data removed]"
    }
   },
   "cell_type": "markdown",
   "id": "2516f6b7",
   "metadata": {},
   "source": [
    "![image.png](attachment:image.png)"
   ]
  },
  {
   "cell_type": "code",
   "execution_count": 34,
   "id": "35978bc5",
   "metadata": {},
   "outputs": [
    {
     "name": "stdout",
     "output_type": "stream",
     "text": [
      "[('a', 10), ('b', 1), ('c', 22)]\n"
     ]
    }
   ],
   "source": [
    "tList.sort()\n",
    "print(tList)\n"
   ]
  },
  {
   "attachments": {
    "image-2.png": {
     "image/png": "[encoded data removed]"
    }
   },
   "cell_type": "markdown",
   "id": "d911208a",
   "metadata": {},
   "source": [
    "Im Buch auf PDF-Seite 157<br>\n",
    "**Ich Ausgabe ist bei mir sortiert.**\n",
    "![image-2.png](attachment:image-2.png)"
   ]
  },
  {
   "cell_type": "code",
   "execution_count": 35,
   "id": "0fbe48c6",
   "metadata": {},
   "outputs": [
    {
     "name": "stdout",
     "output_type": "stream",
     "text": [
      "1 b\n",
      "10 a\n",
      "22 c\n"
     ]
    }
   ],
   "source": [
    "for key, val in list(dDictionarys.items()):\n",
    "    print(val, key)\n"
   ]
  },
  {
   "attachments": {
    "image-2.png": {
     "image/png": "[encoded data removed]"
    }
   },
   "cell_type": "markdown",
   "id": "ce3da1aa",
   "metadata": {},
   "source": [
    "Auch im Buch auf PDF-Seite 157<br>\n",
    "![image-2.png](attachment:image-2.png)"
   ]
  },
  {
   "cell_type": "code",
   "execution_count": 36,
   "id": "057eda88",
   "metadata": {},
   "outputs": [
    {
     "name": "stdout",
     "output_type": "stream",
     "text": [
      "Dictionary {'a': 10, 'b': 1, 'c': 22}\n",
      "Als Liste Val,Key [(10, 'a'), (1, 'b'), (22, 'c')]\n",
      "Als reverse Liste [(22, 'c'), (10, 'a'), (1, 'b')]\n"
     ]
    }
   ],
   "source": [
    "d = {'a':10, 'b':1, 'c':22}\n",
    "print(\"Dictionary\",d)\n",
    "l = list()\n",
    "# print(\"Als Liste\",l)\n",
    "for key, val in d.items():\n",
    "    l.append( (val, key) )\n",
    "print(\"Als Liste Val,Key\",l)\n",
    "[(10, 'a'), (22, 'c'), (1, 'b')]\n",
    "l.sort(reverse=True)\n",
    "print(\"Als reverse Liste\",l)\n"
   ]
  }
 ],
 "metadata": {
  "kernelspec": {
   "display_name": "Python 3 (ipykernel)",
   "language": "python",
   "name": "python3"
  },
  "language_info": {
   "codemirror_mode": {
    "name": "ipython",
    "version": 3
   },
   "file_extension": ".py",
   "mimetype": "text/x-python",
   "name": "python",
   "nbconvert_exporter": "python",
   "pygments_lexer": "ipython3",
   "version": "3.9.13"
  }
 },
 "nbformat": 4,
 "nbformat_minor": 5
}
