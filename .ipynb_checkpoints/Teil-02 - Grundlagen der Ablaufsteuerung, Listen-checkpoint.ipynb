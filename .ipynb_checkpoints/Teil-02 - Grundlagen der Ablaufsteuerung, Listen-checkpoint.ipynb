{
 "cells": [
  {
   "cell_type": "markdown",
   "id": "ac6785e6",
   "metadata": {
    "slideshow": {
     "slide_type": "slide"
    }
   },
   "source": [
    "# Teil 02 - Grundlagen der Ablaufsteuerung, Listen"
   ]
  },
  {
   "cell_type": "markdown",
   "id": "0be148a1",
   "metadata": {
    "slideshow": {
     "slide_type": "fragment"
    }
   },
   "source": [
    "## Den Ablauf des Programms von Bedingungen abhängig machen. (Teil 2)"
   ]
  },
  {
   "cell_type": "markdown",
   "id": "63e77b09",
   "metadata": {
    "slideshow": {
     "slide_type": "fragment"
    }
   },
   "source": [
    "- if else\n",
    "- while Schleife\n",
    "- Funktionen\n",
    "- Listen\n",
    "- for in Schleife\n",
    "- Rationale Zahlen"
   ]
  },
  {
   "cell_type": "markdown",
   "id": "e34b6f08",
   "metadata": {
    "slideshow": {
     "slide_type": "slide"
    }
   },
   "source": [
    "### if else  ; wenn  sonst"
   ]
  },
  {
   "cell_type": "code",
   "execution_count": 29,
   "id": "764b5ddc",
   "metadata": {
    "slideshow": {
     "slide_type": "fragment"
    }
   },
   "outputs": [
    {
     "name": "stdout",
     "output_type": "stream",
     "text": [
      "In Schublade B ist: 7\n"
     ]
    }
   ],
   "source": [
    "SchubladeA = 42\n",
    "SchubladeB = 10\n",
    "\n",
    "if SchubladeA > 9:\n",
    "    SchubladeB = 7   # eingerückt\n",
    "else:\n",
    "    SchubladeB = 3   # eingerückt\n",
    "\n",
    "print(\"In Schublade B ist:\",SchubladeB)"
   ]
  },
  {
   "cell_type": "raw",
   "id": "53e59fbf",
   "metadata": {
    "slideshow": {
     "slide_type": "subslide"
    }
   },
   "source": [
    "Operator\tBezeichnung\n",
    "<, <=,      kleiner, kleiner gleich\n",
    ">, >=,      größer, größer gleich\n",
    "!= \t        nicht gleich\n",
    "==          \"gleich gleich\" als Unterschid zum Zuweisungs Operator dem =\n",
    "\n",
    "or          Boolsches Oder\n",
    "and         Boolsches Und\n",
    "not         Boolsches Nicht\n",
    "\n",
    "in\t        \"Element von\"\n"
   ]
  },
  {
   "cell_type": "markdown",
   "id": "08a6b632",
   "metadata": {
    "slideshow": {
     "slide_type": "subslide"
    }
   },
   "source": [
    "![title](img/andornot.svg)\n",
    "<table >\n",
    "<tr><td> and <td><td> or <td><td> not <td><tr>\n",
    "<table>\n",
    "https://de.wikipedia.org/wiki/Boolesche_Algebra<br>\n",
    "https://de.wikipedia.org/wiki/Boolescher_Operator<br>\n"
   ]
  },
  {
   "cell_type": "code",
   "execution_count": 30,
   "id": "c66b14cb",
   "metadata": {
    "slideshow": {
     "slide_type": "slide"
    }
   },
   "outputs": [
    {
     "data": {
      "text/plain": [
       "23"
      ]
     },
     "execution_count": 30,
     "metadata": {},
     "output_type": "execute_result"
    }
   ],
   "source": [
    "a = 42\n",
    "b = 10\n",
    "if a > 9:\n",
    "    c = 2           # eingerückt\n",
    "    d = 10          # eingerückt\n",
    "    b = c * d + 3   # eingerückt\n",
    "b"
   ]
  },
  {
   "cell_type": "code",
   "execution_count": 31,
   "id": "6b7d1fae",
   "metadata": {
    "slideshow": {
     "slide_type": "fragment"
    }
   },
   "outputs": [
    {
     "data": {
      "text/plain": [
       "10"
      ]
     },
     "execution_count": 31,
     "metadata": {},
     "output_type": "execute_result"
    }
   ],
   "source": [
    "a = 42\n",
    "b = 10\n",
    "if a == 43:\n",
    "    b = 11\n",
    "b"
   ]
  },
  {
   "cell_type": "code",
   "execution_count": 32,
   "id": "90d44d37",
   "metadata": {
    "slideshow": {
     "slide_type": "fragment"
    }
   },
   "outputs": [
    {
     "name": "stdout",
     "output_type": "stream",
     "text": [
      "Ein X Bitte: 11\n",
      "42\n"
     ]
    }
   ],
   "source": [
    "x=float(input(\"Ein X Bitte: \"))\n",
    "if not (x < 10 or x > 20):  # da zwischen\n",
    "    print(42)     \n",
    "else:                       # außerhalb\n",
    "    print(0)"
   ]
  },
  {
   "cell_type": "code",
   "execution_count": 33,
   "id": "c505c422",
   "metadata": {
    "slideshow": {
     "slide_type": "fragment"
    }
   },
   "outputs": [
    {
     "data": {
      "text/plain": [
       "120"
      ]
     },
     "execution_count": 33,
     "metadata": {},
     "output_type": "execute_result"
    }
   ],
   "source": [
    "A = 100\n",
    "A = A + 10\n",
    "A += 10\n",
    "A"
   ]
  },
  {
   "cell_type": "markdown",
   "id": "b7572345",
   "metadata": {
    "slideshow": {
     "slide_type": "slide"
    }
   },
   "source": [
    "## (iii) Etwas eine bestimmte Anzahl von Malen wiederholen. (Teil 2)\n",
    "\n",
    "### while Schleife"
   ]
  },
  {
   "cell_type": "code",
   "execution_count": 34,
   "id": "8d6459b7",
   "metadata": {
    "slideshow": {
     "slide_type": "fragment"
    }
   },
   "outputs": [
    {
     "name": "stdout",
     "output_type": "stream",
     "text": [
      "0 1\n",
      "1 2\n",
      "3 3\n",
      "6 4\n",
      "10 5\n",
      "15 6\n",
      "21 7\n",
      "28 8\n",
      "36 9\n",
      "45 10\n",
      "55 11\n"
     ]
    }
   ],
   "source": [
    "Iterator = 1\n",
    "Summe = 0\n",
    "print(Summe , Iterator)\n",
    "while Iterator <= 10:\n",
    "    Summe = Summe + Iterator  # eingerückt\n",
    "    Iterator = Iterator + 1   # eingerückt\n",
    "    print(Summe , Iterator)   # eingerückt\n"
   ]
  },
  {
   "cell_type": "raw",
   "id": "caee0979",
   "metadata": {
    "slideshow": {
     "slide_type": "fragment"
    }
   },
   "source": [
    "Hier wird der eingerückte Teil des Codes so lange wiederholt, wie der Test\n",
    "\"Iterator <= 10\" erfolgreich durchgeführt werden kann; also so lange, wie der Wert\n",
    "vom Iterator nicht größer als 10 ist."
   ]
  },
  {
   "cell_type": "markdown",
   "id": "9aa77664",
   "metadata": {
    "slideshow": {
     "slide_type": "slide"
    }
   },
   "source": [
    "## Funktionen"
   ]
  },
  {
   "cell_type": "code",
   "execution_count": 35,
   "id": "6bcd0175",
   "metadata": {
    "slideshow": {
     "slide_type": "fragment"
    }
   },
   "outputs": [],
   "source": [
    "# Funktion mit einen Parameter\n",
    "def sumFunk(n=10):\n",
    "    Iterator = 1\n",
    "    Summe = 0\n",
    "    while Iterator <= n:\n",
    "        Summe = Summe + Iterator  # eingerückt\n",
    "        Iterator = Iterator + 1   # eingerückt\n",
    "    return Summe"
   ]
  },
  {
   "cell_type": "code",
   "execution_count": 36,
   "id": "8f394421",
   "metadata": {
    "slideshow": {
     "slide_type": "fragment"
    }
   },
   "outputs": [
    {
     "data": {
      "text/plain": [
       "210"
      ]
     },
     "execution_count": 36,
     "metadata": {},
     "output_type": "execute_result"
    }
   ],
   "source": [
    "sumFunk(20)"
   ]
  },
  {
   "cell_type": "code",
   "execution_count": 37,
   "id": "7520a8bd",
   "metadata": {
    "slideshow": {
     "slide_type": "fragment"
    }
   },
   "outputs": [],
   "source": [
    "# Funktion mit mehr als einen Parameter\n",
    "def Distanz(x,y):\n",
    "    Dist = x - y\n",
    "    if Dist < 0:\n",
    "        Dist = -Dist\n",
    "    return Dist"
   ]
  },
  {
   "cell_type": "code",
   "execution_count": 38,
   "id": "3584513a",
   "metadata": {
    "scrolled": true,
    "slideshow": {
     "slide_type": "fragment"
    }
   },
   "outputs": [
    {
     "data": {
      "text/plain": [
       "6"
      ]
     },
     "execution_count": 38,
     "metadata": {},
     "output_type": "execute_result"
    }
   ],
   "source": [
    "Distanz(4,10)"
   ]
  },
  {
   "cell_type": "markdown",
   "id": "b4c4167d",
   "metadata": {
    "slideshow": {
     "slide_type": "slide"
    }
   },
   "source": [
    "# Listen"
   ]
  },
  {
   "cell_type": "raw",
   "id": "fc6aa5e5",
   "metadata": {
    "slideshow": {
     "slide_type": "fragment"
    }
   },
   "source": [
    "Da wir dafür die unterschiedlichen Darstellungen als Folgen von separaten\n",
    "Ziffern betrachten müssen, werden wir einen weiteren Datentyp brauchen.\n",
    "In Python bieten sich die sogenannten Listen an."
   ]
  },
  {
   "cell_type": "code",
   "execution_count": 39,
   "id": "77e692f1",
   "metadata": {
    "slideshow": {
     "slide_type": "fragment"
    }
   },
   "outputs": [
    {
     "data": {
      "text/plain": [
       "[3, 7, 2, 1]"
      ]
     },
     "execution_count": 39,
     "metadata": {},
     "output_type": "execute_result"
    }
   ],
   "source": [
    "ListeA = [3, 7 ,2 ,1]\n",
    "ListeA"
   ]
  },
  {
   "cell_type": "code",
   "execution_count": 40,
   "id": "49ebc8e4",
   "metadata": {
    "slideshow": {
     "slide_type": "fragment"
    }
   },
   "outputs": [
    {
     "data": {
      "text/plain": [
       "4"
      ]
     },
     "execution_count": 40,
     "metadata": {},
     "output_type": "execute_result"
    }
   ],
   "source": [
    "# Um die Länge einer Liste zu ermitteln, verwendet man len()\n",
    "len(ListeA)"
   ]
  },
  {
   "cell_type": "code",
   "execution_count": 41,
   "id": "a0554304",
   "metadata": {
    "slideshow": {
     "slide_type": "fragment"
    }
   },
   "outputs": [
    {
     "name": "stdout",
     "output_type": "stream",
     "text": [
      "[1, 2, 7, 3]\n"
     ]
    },
    {
     "data": {
      "text/plain": [
       "[3, 7, 2, 1]"
      ]
     },
     "execution_count": 41,
     "metadata": {},
     "output_type": "execute_result"
    }
   ],
   "source": [
    "# Die Reihenfolge einer Liste invertiert man durch reversed()\n",
    "# Wichtig ist dabei, dass die Liste selbst durch diesen Aufruf nicht verändert wird.\n",
    "print(list(reversed(ListeA)))\n",
    "ListeA"
   ]
  },
  {
   "cell_type": "code",
   "execution_count": 42,
   "id": "b8a31b18",
   "metadata": {
    "slideshow": {
     "slide_type": "subslide"
    }
   },
   "outputs": [
    {
     "name": "stdout",
     "output_type": "stream",
     "text": [
      "[3, 7, 2, 1]\n",
      "1\n"
     ]
    },
    {
     "data": {
      "text/plain": [
       "[3, 7, 2]"
      ]
     },
     "execution_count": 42,
     "metadata": {},
     "output_type": "execute_result"
    }
   ],
   "source": [
    "# Sie können das letzte Element einer Liste erhalten und es gleichzeitig aus der Liste entfernen, indem Sie pop() verwenden\n",
    "print(ListeA)\n",
    "print(ListeA.pop())\n",
    "ListeA"
   ]
  },
  {
   "cell_type": "code",
   "execution_count": 43,
   "id": "48911965",
   "metadata": {
    "slideshow": {
     "slide_type": "fragment"
    }
   },
   "outputs": [
    {
     "name": "stdout",
     "output_type": "stream",
     "text": [
      "None\n"
     ]
    },
    {
     "data": {
      "text/plain": [
       "[3, 7, 2, 42]"
      ]
     },
     "execution_count": 43,
     "metadata": {},
     "output_type": "execute_result"
    }
   ],
   "source": [
    "# Um etwas zu einer Liste hinzuzufügen, benutzen wir append()\n",
    "print(ListeA.append(42))\n",
    "ListeA"
   ]
  },
  {
   "cell_type": "markdown",
   "id": "baeab0d8",
   "metadata": {
    "slideshow": {
     "slide_type": "subslide"
    }
   },
   "source": [
    "<div> \n",
    "    <img src=\"img/SchubladenEinsatzNo.webp\" alt=\"SchubladenEinsat\" style=\"width: 400px;\"/>    \n",
    "</div> "
   ]
  },
  {
   "cell_type": "code",
   "execution_count": 44,
   "id": "ad069d24",
   "metadata": {
    "slideshow": {
     "slide_type": "fragment"
    }
   },
   "outputs": [
    {
     "data": {
      "text/plain": [
       "42"
      ]
     },
     "execution_count": 44,
     "metadata": {},
     "output_type": "execute_result"
    }
   ],
   "source": [
    "# Auf einzelne Elemente einer Liste kann man mit der folgenden Syntax zugreifen:\n",
    "ListeA[3]"
   ]
  },
  {
   "cell_type": "raw",
   "id": "6f177e70",
   "metadata": {
    "slideshow": {
     "slide_type": "fragment"
    }
   },
   "source": [
    "Die 3 ist der sogenannte Index des Elements, auf das wir zugreifen. \n",
    "Wie in den meisten Programmiersprachen ist der Index des ersten Elements nicht eins, sondern null."
   ]
  },
  {
   "cell_type": "markdown",
   "id": "86244f0e",
   "metadata": {
    "slideshow": {
     "slide_type": "slide"
    }
   },
   "source": [
    "## for in Schleife"
   ]
  },
  {
   "cell_type": "code",
   "execution_count": 45,
   "id": "86a2eacc",
   "metadata": {
    "slideshow": {
     "slide_type": "fragment"
    }
   },
   "outputs": [
    {
     "name": "stdout",
     "output_type": "stream",
     "text": [
      "Debug x range(-18, 18, 3)\n"
     ]
    },
    {
     "data": {
      "text/plain": [
       "[-18, -15, -12, -9, -6, -3, 0, 3, 6, 9, 12, 15]"
      ]
     },
     "execution_count": 45,
     "metadata": {},
     "output_type": "execute_result"
    }
   ],
   "source": [
    "# Es gibt auch die leere Liste\n",
    "ListeB=[]\n",
    "i = 0\n",
    "# range Erstellen Sie eine Zahlenfolge von -18 bis 18 in der Schrittweite 3 \n",
    "# rage ist etwas gewöhnungs bedürftig.\n",
    "x = range(-18, 18, 3)\n",
    "print(\"Debug x\",x)\n",
    "for ElementVomRange in x:\n",
    "#    print(\"Debug\",ElementVomRange)\n",
    "    ListeB.append(ElementVomRange)\n",
    "ListeB"
   ]
  },
  {
   "cell_type": "code",
   "execution_count": 46,
   "id": "17c24592",
   "metadata": {
    "slideshow": {
     "slide_type": "fragment"
    }
   },
   "outputs": [
    {
     "data": {
      "text/plain": [
       "[42, 'fourty-two', False, [2, 4, 6]]"
      ]
     },
     "execution_count": 46,
     "metadata": {},
     "output_type": "execute_result"
    }
   ],
   "source": [
    "# Man kann jedes Python-Objekt, nicht nur Zahlen, in Listen speichern\n",
    "ListeMix=[42, \"fourty-two\",False, [2,4,6]]\n",
    "ListeMix\n",
    "# auch Listen in Listen"
   ]
  },
  {
   "cell_type": "code",
   "execution_count": 47,
   "id": "97930654",
   "metadata": {
    "slideshow": {
     "slide_type": "subslide"
    }
   },
   "outputs": [
    {
     "name": "stdout",
     "output_type": "stream",
     "text": [
      "[20, [30, 60]]\n",
      "20 30 60\n"
     ]
    }
   ],
   "source": [
    "# Listen in Listen kann man auch destrukturieren:\n",
    "b = [20,[30,60]]\n",
    "print(b)\n",
    "\n",
    "x ,[y,z] = b\n",
    "\n",
    "print(x,y,z)"
   ]
  },
  {
   "cell_type": "code",
   "execution_count": 48,
   "id": "77bcd676",
   "metadata": {
    "slideshow": {
     "slide_type": "fragment"
    }
   },
   "outputs": [
    {
     "name": "stdout",
     "output_type": "stream",
     "text": [
      "Michael Talarczyk\n",
      "Ann-Kristin Schulte\n",
      "Meriam Malik\n"
     ]
    }
   ],
   "source": [
    "# Und das geht sogar in Schleifen:\n",
    "# a = [[1,1],[2,4],[3,9]]\n",
    "a = [[\"Michael\",\"Talarczyk\"],[\"Ann-Kristin\",\"Schulte\"],[\"Meriam\",\"Malik\"]]\n",
    "for x,y in a:\n",
    "    print(x,y)\n"
   ]
  },
  {
   "cell_type": "markdown",
   "id": "f9be4da7",
   "metadata": {
    "slideshow": {
     "slide_type": "slide"
    }
   },
   "source": [
    "# Rationale Zahlen\n",
    "Quelle: Edmund Weitz ISBN: 978-3-662-62618-4"
   ]
  },
  {
   "cell_type": "raw",
   "id": "44d5c1d7",
   "metadata": {
    "slideshow": {
     "slide_type": "fragment"
    }
   },
   "source": [
    "Wenn man Zahlen verschiedener Typen mischt, wie z.B. bei 42 + 42.0, muus\n",
    "sich der Computer für einen der beiden Zahlentypen entscheiden, bevor er\n",
    "die Berechnung durchführen kann. In solchen Situationen entscheidet er sich\n",
    "immer „gegen“ die ganzen Zahlen. Es ist also so, als hätte man 42.0 + 42.0 eingegeben."
   ]
  },
  {
   "cell_type": "code",
   "execution_count": 49,
   "id": "2264a332",
   "metadata": {
    "slideshow": {
     "slide_type": "fragment"
    }
   },
   "outputs": [
    {
     "data": {
      "text/plain": [
       "0.010000000000000009"
      ]
     },
     "execution_count": 49,
     "metadata": {},
     "output_type": "execute_result"
    }
   ],
   "source": [
    "1 - 0.99"
   ]
  },
  {
   "cell_type": "raw",
   "id": "4403c801",
   "metadata": {
    "slideshow": {
     "slide_type": "fragment"
    }
   },
   "source": [
    "Das ist offensichtlich falsch; die richtige Antwort wäre 0.01 gewesen. \n",
    "Ein noch seltsameres Ergebnis bekommen Sie, wenn Sie das hier probieren:"
   ]
  },
  {
   "cell_type": "code",
   "execution_count": 50,
   "id": "f3d5ad4c",
   "metadata": {
    "slideshow": {
     "slide_type": "fragment"
    }
   },
   "outputs": [
    {
     "data": {
      "text/plain": [
       "1.1102230246251565e-16"
      ]
     },
     "execution_count": 50,
     "metadata": {},
     "output_type": "execute_result"
    }
   ],
   "source": [
    "1 - 0.9999999999999999"
   ]
  },
  {
   "cell_type": "code",
   "execution_count": 51,
   "id": "3045f030",
   "metadata": {
    "slideshow": {
     "slide_type": "fragment"
    }
   },
   "outputs": [
    {
     "data": {
      "text/plain": [
       "0.3333333333333333"
      ]
     },
     "execution_count": 51,
     "metadata": {},
     "output_type": "execute_result"
    }
   ],
   "source": [
    "1 / 3"
   ]
  },
  {
   "cell_type": "raw",
   "id": "6ac5e8c1",
   "metadata": {
    "slideshow": {
     "slide_type": "fragment"
    }
   },
   "source": [
    "Das Ergebnis ist 0.3333333333333333 und Sie wissen (hoffentlich), dass das\n",
    "nicht ganz richtig ist, kennen sowas aber vielleicht schon von Taschenrechnern.\n",
    "Wenn Sie dieses Ergebnis nun mit 3 multiplizieren, müsste ja wohl 0.999999999999999999 \n",
    "herauskommen, oder?"
   ]
  },
  {
   "cell_type": "code",
   "execution_count": 52,
   "id": "5651d62d",
   "metadata": {
    "slideshow": {
     "slide_type": "subslide"
    }
   },
   "outputs": [
    {
     "data": {
      "text/plain": [
       "1.0"
      ]
     },
     "execution_count": 52,
     "metadata": {},
     "output_type": "execute_result"
    }
   ],
   "source": [
    "(1 / 3 ) * 3"
   ]
  },
  {
   "cell_type": "markdown",
   "id": "5ce21816",
   "metadata": {
    "slideshow": {
     "slide_type": "fragment"
    }
   },
   "source": [
    "Da kommt nun aber 1.0 heraus. Für den Gesamtausdruck ist das zwar richtig,<br>\n",
    "aber es widerspricht dem vorherigen Resultat. Etwas ist faul hier. . .<br>\n",
    "Bevor wir weitermachen, sollten wir notieren, was jetzt schon klar ist:<br>\n",
    "- Solange wir in Python nur mit ganzen Zahlen rechnen, sind die Ergebnisse immer korrekt.\n",
    "- Solange wir in Sprachen wie Java und C nur mit ganzen Zahlen rechnen und gleichzeitig innerhalb der Grenzen des benutzten Datentyps (z.B. int oder long) bleiben, sind die Ergebnisse ebenfalls immer korrekt.\n",
    "- Verlassen wir jedoch den „sicheren Hafen“ der ganzen Zahlen (und benutzen die sogenannten Fließkommazahlen), dann sind Fehler fast unvermeidbar!\n"
   ]
  }
 ],
 "metadata": {
  "celltoolbar": "Slideshow",
  "kernelspec": {
   "display_name": "Python 3 (ipykernel)",
   "language": "python",
   "name": "python3"
  },
  "language_info": {
   "codemirror_mode": {
    "name": "ipython",
    "version": 3
   },
   "file_extension": ".py",
   "mimetype": "text/x-python",
   "name": "python",
   "nbconvert_exporter": "python",
   "pygments_lexer": "ipython3",
   "version": "3.9.13"
  }
 },
 "nbformat": 4,
 "nbformat_minor": 5
}
