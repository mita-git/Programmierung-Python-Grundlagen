{
 "cells": [
  {
   "cell_type": "markdown",
   "id": "6084fe03",
   "metadata": {},
   "source": [
    "# Teil 14 - Objektorientierte Programmierung"
   ]
  },
  {
   "cell_type": "markdown",
   "id": "f5893dd0",
   "metadata": {},
   "source": [
    "## MVC\n",
    "\n",
    "Quelle: https://www.hsg-kl.de/faecher/inf/python/oop/mvc/index.php <br>\n",
    "\n",
    "M is for Model, V is for View, C is for Controller and together this framework works better for you.<br>\n",
    "\n",
    "Ein Programm mit grafischer Oberfläche soll so konzipiert sein, dass es arbeitsteilig im Team entwickelt werden kann und ein hohes Maß an Wiederverwertbarkeit besitzt. Eine strikte Trennung des Fachkonzepts **(Model)** von der grafischen Präsentation **(View)** erfüllt diese Vorgaben. Im *Idealfall* wissen Model und View nichts voneinander. Die notwendigen Verbindungen werden nur von einem drittem Bestandteil, dem **Controller**, ausgeführt. Der Controller braucht dazu eine präzise Beschreibung der Schnittstellen von Model und View.<br>"
   ]
  },
  {
   "attachments": {
    "image.png": {
     "image/png": "[encoded data removed]"
    }
   },
   "cell_type": "markdown",
   "id": "c4f344c2",
   "metadata": {},
   "source": [
    "![image.png](attachment:image.png)"
   ]
  },
  {
   "cell_type": "markdown",
   "id": "4655cc18",
   "metadata": {},
   "source": [
    "### größte gemeinsame Teiler (ggT)"
   ]
  },
  {
   "attachments": {
    "image.png": {
     "image/png": "[encoded data removed]"
    }
   },
   "cell_type": "markdown",
   "id": "37bd9b70",
   "metadata": {},
   "source": [
    "![image.png](attachment:image.png)"
   ]
  },
  {
   "cell_type": "code",
   "execution_count": 1,
   "id": "ca6e4a2d",
   "metadata": {},
   "outputs": [],
   "source": [
    "# model\n",
    "class Model(object):                                         # Klasse Model\n",
    "    def ggt(self,a,b):\n",
    "        while b > 0:\n",
    "            a,b = b,a%b\n",
    "        return a\n",
    "\n",
    "\n",
    "# view\n",
    "from tkinter import *\n",
    "from tkinter import messagebox\n",
    "\n",
    "class View(Tk):                                               # Klasse View\n",
    "\n",
    "    def __init__(self,callback):\n",
    "        Tk.__init__(self)\n",
    "        self.callback = callback\n",
    "        # Fenster\n",
    "        self.title(\"ggT MVC\")\n",
    "        self.geometry('200x200')\n",
    "        # Überschrift\n",
    "        self.ueb = Label(master=self, text='größte gemeinsame Teiler\\nBerechnung MVC')\n",
    "        self.ueb.place(x=10, y=10)\n",
    "\n",
    "        \n",
    "        # Entries\n",
    "        # Eingabefelder\n",
    "        self.eA = Entry(master=self)\n",
    "        self.eA.insert(0, '')\n",
    "        self.eA.place(x=20, y=50, width=50)\n",
    "        \n",
    "        self.eB = Entry(master=self)\n",
    "        self.eB.insert(0, '')\n",
    "        self.eB.place(x=80, y=50, width=50)\n",
    "        \n",
    "        # Button\n",
    "        self.bRechne = Button(master=self, text=\"berechne\", command=self.callback)\n",
    "        self.bRechne.place(x=20, y=80, width=80)\n",
    "        \n",
    "        # Label\n",
    "        # Ausgabe \n",
    "        self.lG = Label(master=self, text='??')\n",
    "        self.lG.place(x=20, y=120)\n",
    "\n",
    "\n",
    "# controller\n",
    "class Controller(object):                                               # Klasse Controller\n",
    "    def __init__(self):                   # init der Klasse\n",
    "        self.view = View(self.berechne)   \n",
    "        self.model = Model()\n",
    "        # self.berechne()                    zur Initialisierung der Funktion berechne\n",
    "        self.view.mainloop()              # Der Controller startet die mainloop der View.\n",
    "\n",
    "    def berechne(self):\n",
    "        try:\n",
    "            # Eingabe\n",
    "            a = int(self.view.eA.get())\n",
    "            b = int(self.view.eB.get())\n",
    "            # Verarbeitung\n",
    "            g = self.model.ggt(a,b)\n",
    "            # Ausgabe\n",
    "            self.view.lG.config(text=str(g))\n",
    "        except:\n",
    "            messagebox.showerror(title='Controller Error', message='Berechnung Fehler')\n",
    "            print('Controller Fehler bei Berechnung')\n",
    "\n",
    "\n"
   ]
  },
  {
   "cell_type": "code",
   "execution_count": 2,
   "id": "1c840d83",
   "metadata": {},
   "outputs": [],
   "source": [
    "# Hauptprogramm\n",
    "c = Controller()"
   ]
  }
 ],
 "metadata": {
  "kernelspec": {
   "display_name": "Python 3 (ipykernel)",
   "language": "python",
   "name": "python3"
  },
  "language_info": {
   "codemirror_mode": {
    "name": "ipython",
    "version": 3
   },
   "file_extension": ".py",
   "mimetype": "text/x-python",
   "name": "python",
   "nbconvert_exporter": "python",
   "pygments_lexer": "ipython3",
   "version": "3.9.13"
  }
 },
 "nbformat": 4,
 "nbformat_minor": 5
}
