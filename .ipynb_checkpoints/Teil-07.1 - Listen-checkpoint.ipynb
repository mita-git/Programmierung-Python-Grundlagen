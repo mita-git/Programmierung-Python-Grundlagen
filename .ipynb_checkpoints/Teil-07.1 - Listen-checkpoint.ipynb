{
 "cells": [
  {
   "cell_type": "markdown",
   "id": "d676ea90",
   "metadata": {},
   "source": [
    "# Teil 7.1 - Listen\n",
    "Listen sind veränderbar<br>\n",
    "Es kan Listen von Listen geben<br>"
   ]
  },
  {
   "cell_type": "code",
   "execution_count": 1,
   "id": "88049ecd",
   "metadata": {},
   "outputs": [
    {
     "name": "stdout",
     "output_type": "stream",
     "text": [
      "[['Cheddar', 'Edam', 'Gouda'], [42, 17, 123], [], ['Banane', 'Apfel', 'Kiwi']]\n"
     ]
    }
   ],
   "source": [
    "Zehener=[10, 20, 30, 40,]\n",
    "Zahlen = [42, 17, 123]\n",
    "Obst=['Banane', 'Apfel', 'Kiwi']\n",
    "Kaese = ['Cheddar', 'Edam', 'Gouda']\n",
    "empty = []\n",
    "listoflists = [Kaese, Zahlen, empty, Obst]\n",
    "print(listoflists)"
   ]
  },
  {
   "cell_type": "markdown",
   "id": "38c88ee5",
   "metadata": {},
   "source": [
    "Zugriff auf einkelen Elemente einer Liste []<br>"
   ]
  },
  {
   "cell_type": "code",
   "execution_count": 2,
   "id": "252d781c",
   "metadata": {},
   "outputs": [
    {
     "name": "stdout",
     "output_type": "stream",
     "text": [
      "Cheddar\n"
     ]
    }
   ],
   "source": [
    "print(Kaese[0])"
   ]
  },
  {
   "cell_type": "code",
   "execution_count": 3,
   "id": "72f379c8",
   "metadata": {},
   "outputs": [
    {
     "data": {
      "text/plain": [
       "True"
      ]
     },
     "execution_count": 3,
     "metadata": {},
     "output_type": "execute_result"
    }
   ],
   "source": [
    "'Gouda' in Kaese"
   ]
  },
  {
   "cell_type": "code",
   "execution_count": 4,
   "id": "b3bf20bb",
   "metadata": {},
   "outputs": [
    {
     "data": {
      "text/plain": [
       "False"
      ]
     },
     "execution_count": 4,
     "metadata": {},
     "output_type": "execute_result"
    }
   ],
   "source": [
    "10 in Kaese"
   ]
  },
  {
   "cell_type": "markdown",
   "id": "23044eae",
   "metadata": {},
   "source": [
    "## Zuweisen von Werten in einzelne Elemente der Liste<br> "
   ]
  },
  {
   "cell_type": "code",
   "execution_count": 5,
   "id": "7dba4624",
   "metadata": {},
   "outputs": [
    {
     "name": "stdout",
     "output_type": "stream",
     "text": [
      "Zahlen [42, 17, 123]\n",
      "[84, 34, 246]\n"
     ]
    }
   ],
   "source": [
    "print('Zahlen',Zahlen)\n",
    "for i in range(len(Zahlen)):\n",
    "    Zahlen[i] = Zahlen[i] * 2\n",
    "print(Zahlen)"
   ]
  },
  {
   "cell_type": "markdown",
   "id": "91fd5c89",
   "metadata": {},
   "source": [
    "## Funktionen range und len"
   ]
  },
  {
   "cell_type": "markdown",
   "id": "b0f9fd3d",
   "metadata": {},
   "source": [
    "### range erzeugen von einer Liste von Zahlen"
   ]
  },
  {
   "cell_type": "code",
   "execution_count": 6,
   "id": "b648e209",
   "metadata": {},
   "outputs": [
    {
     "name": "stdout",
     "output_type": "stream",
     "text": [
      "[-10, -7, -4, -1, 2, 5, 8, 11, 14, 17]\n"
     ]
    }
   ],
   "source": [
    "# help(range)\n",
    "# range(stop) -> range object\n",
    "# range(start, stop[, step]) -> range object\n",
    "# start defaults to 0, step default is 1\n",
    "x=list(range(-10,20,3))\n",
    "print(x)\n"
   ]
  },
  {
   "cell_type": "markdown",
   "id": "e3a801d9",
   "metadata": {},
   "source": [
    "## Listen-Operationen + * "
   ]
  },
  {
   "cell_type": "code",
   "execution_count": 7,
   "id": "cd1736f6",
   "metadata": {},
   "outputs": [
    {
     "name": "stdout",
     "output_type": "stream",
     "text": [
      "[1, 2, 3, 4, 5, 6]\n"
     ]
    }
   ],
   "source": [
    "a = [1, 2, 3]\n",
    "b = [4, 5, 6]\n",
    "c = a + b        # Listen anhängen\n",
    "print(c)"
   ]
  },
  {
   "cell_type": "code",
   "execution_count": 8,
   "id": "c487388f",
   "metadata": {},
   "outputs": [
    {
     "data": {
      "text/plain": [
       "[42, 42, 42, 42]"
      ]
     },
     "execution_count": 8,
     "metadata": {},
     "output_type": "execute_result"
    }
   ],
   "source": [
    "[42]*4           # Listen vcervielfältigen"
   ]
  },
  {
   "cell_type": "code",
   "execution_count": 9,
   "id": "8668d7d2",
   "metadata": {},
   "outputs": [
    {
     "name": "stdout",
     "output_type": "stream",
     "text": [
      "[1, 2, 3]\n"
     ]
    },
    {
     "data": {
      "text/plain": [
       "[1, 2, 3, 1, 2, 3, 1, 2, 3]"
      ]
     },
     "execution_count": 9,
     "metadata": {},
     "output_type": "execute_result"
    }
   ],
   "source": [
    "print(a)\n",
    "a * 3"
   ]
  },
  {
   "cell_type": "markdown",
   "id": "56701b17",
   "metadata": {},
   "source": [
    "## Listen-Slicing und Elemente ersetzen"
   ]
  },
  {
   "cell_type": "markdown",
   "id": "a250bd69",
   "metadata": {},
   "source": [
    "#### Es beginnt bei 0 - Slicing   [ : ]  ohne das rechte Element"
   ]
  },
  {
   "cell_type": "code",
   "execution_count": 10,
   "id": "9a200611",
   "metadata": {},
   "outputs": [
    {
     "name": "stdout",
     "output_type": "stream",
     "text": [
      "['b', 'c']\n",
      "['a', 'b', 'c', 'd']\n",
      "['e', 'f']\n"
     ]
    }
   ],
   "source": [
    "t = ['a', 'b', 'c', 'd', 'e', 'f']\n",
    "print(t[1:3])              # vom 2. bis ohne das 4.\n",
    "print(t[:4])               # vom Anfang bis ohne das 5.\n",
    "print(t[4:])               # vom 5. bis zum Ende"
   ]
  },
  {
   "cell_type": "code",
   "execution_count": 11,
   "id": "41c6997f",
   "metadata": {},
   "outputs": [
    {
     "name": "stdout",
     "output_type": "stream",
     "text": [
      "['a', 'b', 'c', 'd', 'e', 'f']\n",
      "['a', 'x', 'y', 'd', 'e', 'f']\n",
      "['a', 'x', 'y', 'e', 'f']\n"
     ]
    }
   ],
   "source": [
    "print(t)\n",
    "t[1:3] = ['x', 'y']       # ersetzt das 2. aber nicht das 4. Element\n",
    "print(t)\n",
    "t[1:4] = ['x', 'y']       # ersetzt das 2. aber nicht das 5. Element 4. Elemen wird gelöscht\n",
    "print(t)"
   ]
  },
  {
   "cell_type": "markdown",
   "id": "c193f544",
   "metadata": {},
   "source": [
    "## Listenmethoden\n",
    "### append, extend, .sort() oder sorted()"
   ]
  },
  {
   "cell_type": "code",
   "execution_count": 12,
   "id": "e79c7cb3",
   "metadata": {},
   "outputs": [
    {
     "name": "stdout",
     "output_type": "stream",
     "text": [
      "['a', 'b', 'c', 'd']\n"
     ]
    }
   ],
   "source": [
    "t = ['a', 'b', 'c']\n",
    "t.append('d')\n",
    "print(t)"
   ]
  },
  {
   "cell_type": "code",
   "execution_count": 13,
   "id": "426b7916",
   "metadata": {},
   "outputs": [
    {
     "name": "stdout",
     "output_type": "stream",
     "text": [
      "['a', 'b', 'c', 'd', 'e']\n"
     ]
    }
   ],
   "source": [
    "t1 = ['a', 'b', 'c']\n",
    "t2 = ['d', 'e']\n",
    "t1.extend(t2)\n",
    "print(t1)\n"
   ]
  },
  {
   "cell_type": "code",
   "execution_count": 14,
   "id": "fcfb0491",
   "metadata": {},
   "outputs": [
    {
     "name": "stdout",
     "output_type": "stream",
     "text": [
      "['a', 'b', 'c', 'd', 'e']\n"
     ]
    }
   ],
   "source": [
    "t = ['d', 'c', 'e', 'b', 'a']\n",
    "t.sort()\n",
    "print(t)\n"
   ]
  },
  {
   "cell_type": "code",
   "execution_count": 15,
   "id": "3611bc0a",
   "metadata": {},
   "outputs": [
    {
     "name": "stdout",
     "output_type": "stream",
     "text": [
      "['d', 'c', 'e', 'b', 'a']\n",
      "['a', 'b', 'c', 'd', 'e']\n",
      "[' ', ' ', '0', '1', '1', '1', '3', '3', '6', '6', '6', '7', '7', ';', 'M', 'T', 'a', 'a', 'a', 'c', 'c', 'e', 'h', 'i', 'k', 'l', 'l', 'r', 'y', 'z']\n"
     ]
    }
   ],
   "source": [
    ">>> t = ['d', 'c', 'e', 'b', 'a']\n",
    ">>> l = sorted(t)\n",
    ">>> print(t)\n",
    "print(l)\n",
    "print(sorted(\"Michael Talarczyk; 01776661133\"))\n"
   ]
  },
  {
   "cell_type": "markdown",
   "id": "70dee02d",
   "metadata": {},
   "source": [
    "### Löschen von Elementen\n",
    "#### pop Teilen"
   ]
  },
  {
   "cell_type": "code",
   "execution_count": 16,
   "id": "f702d23f",
   "metadata": {},
   "outputs": [
    {
     "name": "stdout",
     "output_type": "stream",
     "text": [
      "Help on built-in function pop:\n",
      "\n",
      "pop(index=-1, /) method of builtins.list instance\n",
      "    Remove and return item at index (default last).\n",
      "    \n",
      "    Raises IndexError if list is empty or index is out of range.\n",
      "\n",
      "-----------------------\n",
      "Liste ['a', 'b', 'c', 'd', 'e']\n",
      "Geänderte Liste ['a', 'c', 'd', 'e']\n",
      "Return Element b\n"
     ]
    }
   ],
   "source": [
    "help(t.pop)\n",
    "print(\"-----------------------\")\n",
    "t = ['a', 'b', 'c','d','e']\n",
    "print('Liste', t)\n",
    "x = t.pop(1)\n",
    "print('Geänderte Liste',t)\n",
    "print('Return Element',x)"
   ]
  },
  {
   "cell_type": "markdown",
   "id": "49731445",
   "metadata": {},
   "source": [
    "#### del, remove"
   ]
  },
  {
   "cell_type": "code",
   "execution_count": 17,
   "id": "8951dd2e",
   "metadata": {},
   "outputs": [
    {
     "name": "stdout",
     "output_type": "stream",
     "text": [
      "['a', 'b', 'c']\n",
      "['a', 'c']\n",
      "--------------------------------\n",
      "['a', 'b', 'c', 'd', 'e', 'f']\n",
      "['a', 'f']\n"
     ]
    }
   ],
   "source": [
    "t = ['a', 'b', 'c']\n",
    "print(t)\n",
    "del t[1]\n",
    "print(t)\n",
    "print(\"--------------------------------\")\n",
    "t = ['a', 'b', 'c', 'd', 'e', 'f']\n",
    "print(t)\n",
    "del t[1:5]\n",
    "print(t)"
   ]
  },
  {
   "cell_type": "markdown",
   "id": "ad0711ec",
   "metadata": {},
   "source": [
    "#### append"
   ]
  },
  {
   "cell_type": "code",
   "execution_count": 18,
   "id": "9ea89fae",
   "metadata": {},
   "outputs": [
    {
     "name": "stdout",
     "output_type": "stream",
     "text": [
      "Gib eine Zahl ein: 5\n",
      "Gib eine Zahl ein: -5\n",
      "Gib eine Zahl ein: 5,5\n",
      "Fehler\n",
      "Gib eine Zahl ein: 5.5\n",
      "Gib eine Zahl ein: s\n",
      "Fehler\n",
      "Gib eine Zahl ein: \n",
      "Mittelwert: 1.8333333333333333\n",
      "[5.0, -5.0, 5.5]\n"
     ]
    }
   ],
   "source": [
    "# Quelle: https://raw.githubusercontent.com/fh-swf-hgi/py4e/master/code3/avelist.py\n",
    "numlist = list()\n",
    "while (True):\n",
    "    inp = input('Gib eine Zahl ein: ')\n",
    "    if inp == '': break\n",
    "    try:\n",
    "        value = float(inp)\n",
    "        numlist.append(value)\n",
    "    except:\n",
    "        print('Fehler')\n",
    "average = sum(numlist) / len(numlist)\n",
    "print('Mittelwert:', average)\n",
    "print(numlist)"
   ]
  },
  {
   "cell_type": "markdown",
   "id": "6bf88fba",
   "metadata": {},
   "source": [
    "## Listen und Zeichenketten\n",
    "Siehe auch Teil #5"
   ]
  },
  {
   "cell_type": "code",
   "execution_count": 19,
   "id": "a4d737c3",
   "metadata": {},
   "outputs": [
    {
     "name": "stdout",
     "output_type": "stream",
     "text": [
      "['s', 'p', 'a', 'm']\n"
     ]
    }
   ],
   "source": [
    "s = 'spam'\n",
    "t = list(s)\n",
    "print(t)\n"
   ]
  },
  {
   "cell_type": "code",
   "execution_count": 20,
   "id": "0231b0a9",
   "metadata": {},
   "outputs": [
    {
     "name": "stdout",
     "output_type": "stream",
     "text": [
      "['H', 'o', ' ', 'H', 'o', ' ', 'H', 'o']\n"
     ]
    }
   ],
   "source": [
    "buchstaben = list(\"Ho Ho Ho\")\n",
    "print(buchstaben)\n"
   ]
  },
  {
   "cell_type": "markdown",
   "id": "7ae94df4",
   "metadata": {},
   "source": [
    "### split"
   ]
  },
  {
   "cell_type": "code",
   "execution_count": 21,
   "id": "775f9638",
   "metadata": {},
   "outputs": [
    {
     "name": "stdout",
     "output_type": "stream",
     "text": [
      "An Tagen wie diesen haben wir noch ewig Zeit wünsch' ich mir Unendlichkeit\n",
      "['An', 'Tagen', 'wie', 'diesen', 'haben', 'wir', 'noch', 'ewig', 'Zeit', \"wünsch'\", 'ich', 'mir', 'Unendlichkeit']\n",
      "Tagen\n"
     ]
    }
   ],
   "source": [
    "s = \"An Tagen wie diesen \\\n",
    "haben wir noch ewig Zeit \\\n",
    "wünsch\\' ich mir Unendlichkeit\"\n",
    "print(s)\n",
    "t = s.split()\n",
    "print(t)\n",
    "print(t[1])\n"
   ]
  },
  {
   "cell_type": "markdown",
   "id": "a90f49d5",
   "metadata": {},
   "source": []
  }
 ],
 "metadata": {
  "kernelspec": {
   "display_name": "Python 3 (ipykernel)",
   "language": "python",
   "name": "python3"
  },
  "language_info": {
   "codemirror_mode": {
    "name": "ipython",
    "version": 3
   },
   "file_extension": ".py",
   "mimetype": "text/x-python",
   "name": "python",
   "nbconvert_exporter": "python",
   "pygments_lexer": "ipython3",
   "version": "3.9.13"
  }
 },
 "nbformat": 4,
 "nbformat_minor": 5
}
