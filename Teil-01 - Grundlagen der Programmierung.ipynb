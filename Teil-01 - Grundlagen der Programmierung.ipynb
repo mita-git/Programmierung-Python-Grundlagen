{
 "cells": [
  {
   "cell_type": "markdown",
   "id": "01e3d58f",
   "metadata": {
    "slideshow": {
     "slide_type": "slide"
    }
   },
   "source": [
    "# Teil01 - Grundlagen der Programmierung "
   ]
  },
  {
   "cell_type": "markdown",
   "id": "7e510a8b",
   "metadata": {
    "slideshow": {
     "slide_type": "fragment"
    }
   },
   "source": [
    "Programmierung bedeutet <br>\n",
    "\n",
    "- E - Eingabe\n",
    "    - input()\n",
    "- V - Verarbeitung \n",
    "    - Speicherung\n",
    "    - Zahlen und Texte\n",
    "- A - Augsabe\n",
    "    - print()\n",
    "\n",
    "Ende<br>\n",
    "<br>\n",
    "Das # wird für Kommentare verwendet, der Code wird nicht ausgeführt.<br>"
   ]
  },
  {
   "cell_type": "markdown",
   "id": "6271e6f6",
   "metadata": {
    "slideshow": {
     "slide_type": "fragment"
    }
   },
   "source": [
    "Erste Schritte mit Python<br>\n",
    "* Quelle: Konkrete Mathematik (nicht nur) für Informatiker, Edmund Weitz, ISBN 978-3-662-62618-4 (eBook)*\n",
    "Befehle werden nacheinander abgearbeietet.<br>"
   ]
  },
  {
   "cell_type": "markdown",
   "id": "fb9e9f88",
   "metadata": {
    "slideshow": {
     "slide_type": "slide"
    }
   },
   "source": [
    "## Eingabe und Ausgabe"
   ]
  },
  {
   "attachments": {
    "image-2.png": {
     "image/png": "[encoded data removed]"
    },
    "image.png": {
     "image/png": "[encoded data removed]"
    }
   },
   "cell_type": "markdown",
   "id": "4499b8d4",
   "metadata": {
    "slideshow": {
     "slide_type": "fragment"
    }
   },
   "source": [
    "![image.png](attachment:image.png) ![image-2.png](attachment:image-2.png)"
   ]
  },
  {
   "cell_type": "code",
   "execution_count": 1,
   "id": "5976cef6",
   "metadata": {
    "scrolled": true,
    "slideshow": {
     "slide_type": "fragment"
    }
   },
   "outputs": [
    {
     "data": {
      "text/plain": [
       "30"
      ]
     },
     "execution_count": 1,
     "metadata": {},
     "output_type": "execute_result"
    }
   ],
   "source": [
    "# Einfachste Art der Eingabe und Ausgabe in Jupyter\n",
    "30"
   ]
  },
  {
   "cell_type": "markdown",
   "id": "22a067aa",
   "metadata": {
    "slideshow": {
     "slide_type": "slide"
    }
   },
   "source": [
    "## Verarbeitung"
   ]
  },
  {
   "cell_type": "code",
   "execution_count": 2,
   "id": "8540cd54",
   "metadata": {
    "slideshow": {
     "slide_type": "fragment"
    }
   },
   "outputs": [
    {
     "data": {
      "text/plain": [
       "42"
      ]
     },
     "execution_count": 2,
     "metadata": {},
     "output_type": "execute_result"
    }
   ],
   "source": [
    "# Einfachste Art der Verarbeitung in Jupyter\n",
    "\n",
    "30 + 12 "
   ]
  },
  {
   "cell_type": "code",
   "execution_count": 3,
   "id": "aa4cac47",
   "metadata": {
    "slideshow": {
     "slide_type": "fragment"
    }
   },
   "outputs": [],
   "source": [
    "# thirty plus twelve"
   ]
  },
  {
   "cell_type": "markdown",
   "id": "e50a7911",
   "metadata": {
    "slideshow": {
     "slide_type": "fragment"
    }
   },
   "source": [
    "Computer sind dumm und machen nur das was wir ihm sagen.<br>\n",
    "SyntaxError: invalid syntax<br>"
   ]
  },
  {
   "cell_type": "markdown",
   "id": "a845685e",
   "metadata": {
    "slideshow": {
     "slide_type": "slide"
    }
   },
   "source": [
    "# grundlegendsten Dinge die zum Programmieren gehören"
   ]
  },
  {
   "cell_type": "markdown",
   "id": "a881ede2",
   "metadata": {
    "slideshow": {
     "slide_type": "fragment"
    }
   },
   "source": [
    " - (i) Daten speichern und wieder abrufen. (Teil 1)<br>\n",
    " - (ii) Den Ablauf des Programms von Bedingungen abhängig machen. (Teil 2)<br>\n",
    " - (iii) Etwas eine bestimmte Anzahl von Malen wiederholen. (Teil 2)<br>\n",
    " - (iv) Ähnliche Tätigkeiten durch Abstraktion zusammenfassen. (Teil 1) und (Teil 2)<br>"
   ]
  },
  {
   "cell_type": "markdown",
   "id": "b7da01b4",
   "metadata": {
    "slideshow": {
     "slide_type": "slide"
    }
   },
   "source": [
    "## Verarbeitung: Daten speichern und wieder abrufen"
   ]
  },
  {
   "cell_type": "markdown",
   "id": "b07bd3bb",
   "metadata": {
    "slideshow": {
     "slide_type": "fragment"
    }
   },
   "source": [
    "![title](img/Schubladen.png)"
   ]
  },
  {
   "cell_type": "markdown",
   "id": "1e2b0050",
   "metadata": {
    "slideshow": {
     "slide_type": "subslide"
    }
   },
   "source": [
    "![title](img/SchubladenVariablen.png)"
   ]
  },
  {
   "cell_type": "code",
   "execution_count": 4,
   "id": "5806c397",
   "metadata": {
    "slideshow": {
     "slide_type": "fragment"
    }
   },
   "outputs": [
    {
     "data": {
      "text/plain": [
       "42"
      ]
     },
     "execution_count": 4,
     "metadata": {},
     "output_type": "execute_result"
    }
   ],
   "source": [
    "# Daten in sogenannten Variablen zu speichern\n",
    "# ich lege 30 in die Schublade a\n",
    "a = 30\n",
    "# ich holde etwas aus a und addiere 12\n",
    "a + 12\n"
   ]
  },
  {
   "cell_type": "code",
   "execution_count": 5,
   "id": "92d9cbae",
   "metadata": {
    "scrolled": true,
    "slideshow": {
     "slide_type": "subslide"
    }
   },
   "outputs": [
    {
     "data": {
      "text/plain": [
       "42"
      ]
     },
     "execution_count": 5,
     "metadata": {},
     "output_type": "execute_result"
    }
   ],
   "source": [
    "# Wir können den Wert einer Variablen auch jederzeit ändern\n",
    "\n",
    "a = 43\n",
    "a - 1"
   ]
  },
  {
   "cell_type": "code",
   "execution_count": 6,
   "id": "f4eb5586",
   "metadata": {
    "slideshow": {
     "slide_type": "subslide"
    }
   },
   "outputs": [
    {
     "data": {
      "text/plain": [
       "23"
      ]
     },
     "execution_count": 6,
     "metadata": {},
     "output_type": "execute_result"
    }
   ],
   "source": [
    "# Oder wir können in einer Variablen auch direkt den Wert eines arithmetischen Ausdrucks speichern\n",
    "b = a - 20\n",
    "b"
   ]
  },
  {
   "cell_type": "raw",
   "id": "1ff33023",
   "metadata": {
    "slideshow": {
     "slide_type": "fragment"
    }
   },
   "source": [
    "Das sieht alles ziemlich wie Mathe in der Schule aus, \n",
    "da gab’s auch Ausdrücke wie \n",
    "b = a − 20. \n",
    "Es ist aber nicht ganz das Gleiche:\n",
    "In der Programmierung ist das = eine Zuweisung "
   ]
  },
  {
   "cell_type": "code",
   "execution_count": 7,
   "id": "29e15c70",
   "metadata": {
    "slideshow": {
     "slide_type": "subslide"
    }
   },
   "outputs": [
    {
     "data": {
      "text/plain": [
       "44"
      ]
     },
     "execution_count": 7,
     "metadata": {},
     "output_type": "execute_result"
    }
   ],
   "source": [
    "# In der Mathematik hingegen würde die Aussage a = a + 1 keinen Sinn ergeben.\n",
    "\n",
    "a = a + 1\n",
    "a\n",
    "\n",
    "# ich nehme a aus der Schublade addier eins und packe es in die Schublade zurück\n",
    "# jedes mal wenn ich das mache ist etwas neues in a"
   ]
  },
  {
   "cell_type": "markdown",
   "id": "1898f981",
   "metadata": {
    "slideshow": {
     "slide_type": "slide"
    }
   },
   "source": [
    "## Ausgabe: Es gibt auch einen anderen Weg, sich Werte anzeigen zu lassen"
   ]
  },
  {
   "cell_type": "code",
   "execution_count": 8,
   "id": "0ca76527",
   "metadata": {
    "slideshow": {
     "slide_type": "fragment"
    }
   },
   "outputs": [
    {
     "name": "stdout",
     "output_type": "stream",
     "text": [
      "13\n"
     ]
    },
    {
     "data": {
      "text/plain": [
       "30"
      ]
     },
     "execution_count": 8,
     "metadata": {},
     "output_type": "execute_result"
    }
   ],
   "source": [
    "a = 10\n",
    "print(a + 3)\n",
    "b = 3\n",
    "Ergebins = b * a\n",
    "Ergebins\n",
    "# Sie sollten nun erst 13 sehen und dann 30."
   ]
  },
  {
   "cell_type": "markdown",
   "id": "700a3fd2",
   "metadata": {
    "slideshow": {
     "slide_type": "slide"
    }
   },
   "source": [
    "## Verarbeitung: Zahlen und Texte"
   ]
  },
  {
   "cell_type": "markdown",
   "id": "5d7c822d",
   "metadata": {
    "slideshow": {
     "slide_type": "fragment"
    }
   },
   "source": [
    "Ganze Zahlen int() Integer <br>\n",
    "Fließkommazahlen float()<br>\n",
    "Texte str() String <br>\n",
    "type()"
   ]
  },
  {
   "cell_type": "markdown",
   "id": "2dce56ba",
   "metadata": {
    "slideshow": {
     "slide_type": "subslide"
    }
   },
   "source": [
    "## Eingabe:  Es gibt auch einen Weg, Werte wärend des Programmablaufs abzufragen"
   ]
  },
  {
   "cell_type": "code",
   "execution_count": 9,
   "id": "91a20e64",
   "metadata": {
    "slideshow": {
     "slide_type": "fragment"
    }
   },
   "outputs": [
    {
     "name": "stdout",
     "output_type": "stream",
     "text": [
      "Gebe eine Zahl a ein:5\n",
      "Gebe eine zweite Zahl b ein:6\n",
      "Erg  a² + b² = 5.0 6.0\n",
      " a² + b² =  61.0 a = 5.0 b = 6.0\n"
     ]
    }
   ],
   "source": [
    "# Eingabe\n",
    "\n",
    "a = input(\"Gebe eine Zahl a ein:\")         # Input liefert einen String\n",
    "b = input(\"Gebe eine zweite Zahl b ein:\")\n",
    "\n",
    "# print(\"Debug: \",type(a))\n",
    "# Verarbeitung\n",
    "a = float(a)                               # Umwandeln des String in eine Zahl\n",
    "# print(\"Debug: \",type(a))\n",
    "b = float(b)\n",
    "Ergebins = a ** 2 + b ** 2                 # ** 2 ist quadrieren\n",
    "\n",
    "Erg = str()\n",
    "Erg = \" a² + b² = \" + str(a) +\" \"+ str(b)\n",
    "\n",
    "print(\"Erg\",Erg)\n",
    "# Ausgabe\n",
    "print(\" a² + b² = \",Ergebins,\"a =\",a,\"b =\",b)"
   ]
  },
  {
   "cell_type": "raw",
   "id": "9eb8d7ad",
   "metadata": {
    "slideshow": {
     "slide_type": "fragment"
    }
   },
   "source": [
    "Operator\tBezeichnung\t\n",
    "+           Addition\n",
    "-\t        Subtraktion\n",
    "*           Multiplikation\n",
    "/           Division\n",
    "%\t        Rest\n",
    "+x, -x\t    Vorzeichen\n",
    "**\t        Exponentiation z.B. ** 2 Quadrieren"
   ]
  },
  {
   "cell_type": "markdown",
   "id": "4a5f4496",
   "metadata": {
    "slideshow": {
     "slide_type": "subslide"
    }
   },
   "source": [
    "## Verarbeitung: Funktionen "
   ]
  },
  {
   "cell_type": "raw",
   "id": "2ae51d23",
   "metadata": {
    "slideshow": {
     "slide_type": "fragment"
    }
   },
   "source": [
    "Im gewissen Sinne sind Funktionen eine der wichtigste Abstraktionstechnik in Programmen.\n",
    "Der entscheidende Punkt ist, \n",
    "wenn wir im Prinzip dieselbe Sache noch mal machen würden, bei der sich nur ein kleines Detail ändert verwenden wir eine Funktion."
   ]
  },
  {
   "cell_type": "code",
   "execution_count": 10,
   "id": "92b2b9b9",
   "metadata": {
    "slideshow": {
     "slide_type": "fragment"
    }
   },
   "outputs": [
    {
     "data": {
      "text/plain": [
       "42"
      ]
     },
     "execution_count": 10,
     "metadata": {},
     "output_type": "execute_result"
    }
   ],
   "source": [
    "# Eine Funktion namens plus definiert\n",
    "# Der Rückgabewert ist die Adition\n",
    "\n",
    "def plus(a,b):\n",
    "    return a + b\n",
    "\n",
    "# ----------------- #\n",
    "\n",
    "thirty=30\n",
    "twelve=12\n",
    "\n",
    "# Aufruf der Funbktin nach der Definition\n",
    "\n",
    "plus(thirty,twelve)"
   ]
  },
  {
   "cell_type": "code",
   "execution_count": null,
   "id": "e76f55d2",
   "metadata": {},
   "outputs": [],
   "source": []
  }
 ],
 "metadata": {
  "celltoolbar": "Slideshow",
  "kernelspec": {
   "display_name": "Python 3 (ipykernel)",
   "language": "python",
   "name": "python3"
  },
  "language_info": {
   "codemirror_mode": {
    "name": "ipython",
    "version": 3
   },
   "file_extension": ".py",
   "mimetype": "text/x-python",
   "name": "python",
   "nbconvert_exporter": "python",
   "pygments_lexer": "ipython3",
   "version": "3.9.13"
  }
 },
 "nbformat": 4,
 "nbformat_minor": 5
}
