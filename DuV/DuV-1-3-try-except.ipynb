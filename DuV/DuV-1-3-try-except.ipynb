{
 "cells": [
  {
   "cell_type": "markdown",
   "id": "93036b4b",
   "metadata": {},
   "source": [
    "# DuV-Termin1-try-except"
   ]
  },
  {
   "cell_type": "markdown",
   "id": "69287caa",
   "metadata": {},
   "source": [
    "## 3.2 Funktionen"
   ]
  },
  {
   "cell_type": "markdown",
   "id": "be8829b3",
   "metadata": {},
   "source": [
    "### Fehler und die Behandlung von Ausnahmen\n",
    "siehe auch erste Semester \"Teil 03 - Try und except, while\"<br>\n",
    "Der kontrollierte Umgang mit Python-Fehlern oder Ausnahmen (Exceptions) ist wichtig, wenn man robuste Programme schreiben möchte.<br>"
   ]
  },
  {
   "cell_type": "code",
   "execution_count": 1,
   "id": "44695892",
   "metadata": {},
   "outputs": [],
   "source": [
    "def attempt_float(x):\n",
    "    try:\n",
    "        return float(x)\n",
    "    except:\n",
    "        return x"
   ]
  },
  {
   "cell_type": "code",
   "execution_count": 3,
   "id": "d9c08d97",
   "metadata": {},
   "outputs": [
    {
     "data": {
      "text/plain": [
       "1.2345"
      ]
     },
     "execution_count": 3,
     "metadata": {},
     "output_type": "execute_result"
    }
   ],
   "source": [
    "attempt_float('1.2345')"
   ]
  },
  {
   "cell_type": "code",
   "execution_count": 2,
   "id": "64560526",
   "metadata": {},
   "outputs": [
    {
     "data": {
      "text/plain": [
       "'something'"
      ]
     },
     "execution_count": 2,
     "metadata": {},
     "output_type": "execute_result"
    }
   ],
   "source": [
    "attempt_float('something')"
   ]
  },
  {
   "cell_type": "markdown",
   "id": "76aa2f83",
   "metadata": {},
   "source": [
    "https://openbook.rheinwerk-verlag.de/python/\n",
    "\n",
    "22.1    Exceptions\n",
    "\n",
    "<div> <img src=\"try-except-else-finally.png\" alt=\"try-except-else-finally.png\" style=\"width: 400px;\"/></div> \n"
   ]
  },
  {
   "cell_type": "markdown",
   "id": "24ff1460",
   "metadata": {},
   "source": [
    "**ValueError** und **TypeError**"
   ]
  },
  {
   "cell_type": "code",
   "execution_count": 41,
   "id": "1a2795fb",
   "metadata": {},
   "outputs": [],
   "source": [
    "import math\n",
    "def attempt_float_2(x):\n",
    "    try:\n",
    "#        x = math.sqrt(x)\n",
    "        return float(x)\n",
    "    except ValueError:\n",
    "        return 'ValueError', x\n",
    "    except TypeError:\n",
    "        return 'TypeError', x\n",
    "    else:\n",
    "        print(\"else: Error\"), x\n",
    "    finally:\n",
    "        print(\"finally: Ende\")"
   ]
  },
  {
   "cell_type": "code",
   "execution_count": 42,
   "id": "5b9b585c",
   "metadata": {},
   "outputs": [
    {
     "name": "stdout",
     "output_type": "stream",
     "text": [
      "finally: Ende\n"
     ]
    },
    {
     "data": {
      "text/plain": [
       "('ValueError', 'something')"
      ]
     },
     "execution_count": 42,
     "metadata": {},
     "output_type": "execute_result"
    }
   ],
   "source": [
    "attempt_float_2('something')"
   ]
  },
  {
   "cell_type": "code",
   "execution_count": 43,
   "id": "38f3ca23",
   "metadata": {},
   "outputs": [
    {
     "name": "stdout",
     "output_type": "stream",
     "text": [
      "finally: Ende\n"
     ]
    },
    {
     "data": {
      "text/plain": [
       "('TypeError', (1, 2))"
      ]
     },
     "execution_count": 43,
     "metadata": {},
     "output_type": "execute_result"
    }
   ],
   "source": [
    "attempt_float_2((1, 2))"
   ]
  },
  {
   "cell_type": "code",
   "execution_count": 44,
   "id": "7dcbf369",
   "metadata": {},
   "outputs": [
    {
     "name": "stdout",
     "output_type": "stream",
     "text": [
      "finally: Ende\n"
     ]
    },
    {
     "data": {
      "text/plain": [
       "42.0"
      ]
     },
     "execution_count": 44,
     "metadata": {},
     "output_type": "execute_result"
    }
   ],
   "source": [
    "attempt_float_2(42)"
   ]
  }
 ],
 "metadata": {
  "kernelspec": {
   "display_name": "Python 3 (ipykernel)",
   "language": "python",
   "name": "python3"
  },
  "language_info": {
   "codemirror_mode": {
    "name": "ipython",
    "version": 3
   },
   "file_extension": ".py",
   "mimetype": "text/x-python",
   "name": "python",
   "nbconvert_exporter": "python",
   "pygments_lexer": "ipython3",
   "version": "3.9.13"
  }
 },
 "nbformat": 4,
 "nbformat_minor": 5
}
