{
 "cells": [
  {
   "cell_type": "markdown",
   "id": "44a9135a",
   "metadata": {},
   "source": [
    "# Teil 4 -  Iteration"
   ]
  },
  {
   "cell_type": "markdown",
   "id": "6a0df39d",
   "metadata": {},
   "source": [
    "**Übung 1:** Schreiben Sie ein Programm, das wiederholt Zahlen einliest, bis der Benutzer den Befehl done eingibt.<br>\n",
    "Sobald done eingegeben wurde, geben Sie die **Summe, die Anzahl und den Durchschnitt** der Zahlen aus.<br>\n",
    "Wenn der Benutzer etwas anderes als eine Zahl eingibt, erkennen Sie seinen Fehler mit **try und except** und geben eine Fehlermeldung aus und springen zur nächsten Zahl.<br>"
   ]
  },
  {
   "cell_type": "code",
   "execution_count": 1,
   "id": "f961480d",
   "metadata": {},
   "outputs": [],
   "source": [
    "def durchschnitt():\n",
    "    Zeile = \"\"\n",
    "    Zahl = 0\n",
    "    anzahl = 0\n",
    "    summe = 0\n",
    "    durchschnitt = 0\n",
    "    while True:\n",
    "        Zeile = input('Bitte eine Zahl eingeben: ')\n",
    "        if Zeile == 'done':\n",
    "            break\n",
    "        try:\n",
    "            Zahl = float(Zeile.replace(\",\", \".\"))\n",
    "            summe = summe + Zahl\n",
    "            anzahl = anzahl + 1\n",
    "        except:\n",
    "            print(\"Es werden nur Zahlen akzeptiert. Beenden mit 'done'\")\n",
    "            continue\n",
    "    if anzahl==0:\n",
    "        anzahl=1\n",
    "    durchschnitt=summe/anzahl\n",
    "    # print(\"Anzahl: \",anzahl,\" Summe: \",summe,\" Durchschnitt: \",durchschnitt)\n",
    "    erg = \"Anzahl: \" + str(anzahl) + \" Summe: \" + str(summe) + \" Durchschnitt: \" + str(durchschnitt)\n",
    "    print(erg)\n",
    "    return erg"
   ]
  },
  {
   "cell_type": "code",
   "execution_count": 2,
   "id": "8ff4dfc4",
   "metadata": {},
   "outputs": [
    {
     "name": "stdout",
     "output_type": "stream",
     "text": [
      "Bitte eine Zahl eingeben: 5\n",
      "Bitte eine Zahl eingeben: 5,5\n",
      "Bitte eine Zahl eingeben: s\n",
      "Es werden nur Zahlen akzeptiert. Beenden mit 'done'\n",
      "Bitte eine Zahl eingeben: -8\n",
      "Bitte eine Zahl eingeben: done\n",
      "Anzahl: 3 Summe: 2.5 Durchschnitt: 0.8333333333333334\n"
     ]
    }
   ],
   "source": [
    "s1 = durchschnitt()"
   ]
  },
  {
   "cell_type": "code",
   "execution_count": 3,
   "id": "33f0e44c",
   "metadata": {},
   "outputs": [
    {
     "name": "stdout",
     "output_type": "stream",
     "text": [
      "Bitte eine Zahl eingeben: 5\n",
      "Bitte eine Zahl eingeben: 9\n",
      "Bitte eine Zahl eingeben: 1\n",
      "Bitte eine Zahl eingeben: done\n",
      "Anzahl: 3 Summe: 15.0 Durchschnitt: 5.0\n"
     ]
    }
   ],
   "source": [
    "s2 = durchschnitt()"
   ]
  },
  {
   "cell_type": "markdown",
   "id": "62ceca38",
   "metadata": {},
   "source": [
    "**Übung 2:** Schreiben Sie ein weiteres Programm, das eine Liste von Zahlen wie oben abfragt und am Ende sowohl das **Maximum als auch das Minimum** der Zahlen anstelle des Durchschnitts ausgibt.<br>"
   ]
  },
  {
   "cell_type": "code",
   "execution_count": 4,
   "id": "3f7d2195",
   "metadata": {},
   "outputs": [],
   "source": [
    "def minmax():\n",
    "    anzahl = 0\n",
    "    maximum = None\n",
    "    minimum = None\n",
    "    Zeile = \"\"\n",
    "    Zahl = 0    \n",
    "    while True:\n",
    "        Zeile = input('Bitte eine Zahl eingeben: ')\n",
    "        # print(\"Eingabe\",Zeile,\".\")\n",
    "        if Zeile == 'done':\n",
    "            break\n",
    "        if Zeile == \"\":\n",
    "            # print(\"Eingebe leer\")\n",
    "            continue\n",
    "        try:\n",
    "            Zahl = float(Zeile.replace(\",\", \".\"))\n",
    "            # print(\"Zahl\",Zahl)\n",
    "            if maximum is None or Zahl > maximum:\n",
    "                maximum = Zahl\n",
    "                # print('Betrachte Wert:', Zahl, 'Aktuelles Maximum:', maximum)\n",
    "                continue\n",
    "            if minimum is None or Zahl < minimum:\n",
    "                minimum = Zahl\n",
    "                # print('Betrachte Wert:', Zahl, 'Aktuelles Minimum:', minimum)\n",
    "            anzahl = anzahl + 1\n",
    "        except:\n",
    "            print(\"Es werden nur Zahlen akzeptiert. Beenden mit 'done'\")\n",
    "            continue\n",
    "    erg = \"Minimum: \" + str(minimum) + \" Maximum: \" + str(maximum)\n",
    "    print(erg)\n",
    "    return erg    "
   ]
  },
  {
   "cell_type": "code",
   "execution_count": 5,
   "id": "f63e7ab4",
   "metadata": {},
   "outputs": [
    {
     "name": "stdout",
     "output_type": "stream",
     "text": [
      "Bitte eine Zahl eingeben: 1\n",
      "Bitte eine Zahl eingeben: -5\n",
      "Bitte eine Zahl eingeben: 8\n",
      "Bitte eine Zahl eingeben: -2\n",
      "Bitte eine Zahl eingeben: done\n",
      "Minimum: -5.0 Maximum: 8.0\n"
     ]
    }
   ],
   "source": [
    "s3 = minmax()"
   ]
  }
 ],
 "metadata": {
  "kernelspec": {
   "display_name": "Python 3 (ipykernel)",
   "language": "python",
   "name": "python3"
  },
  "language_info": {
   "codemirror_mode": {
    "name": "ipython",
    "version": 3
   },
   "file_extension": ".py",
   "mimetype": "text/x-python",
   "name": "python",
   "nbconvert_exporter": "python",
   "pygments_lexer": "ipython3",
   "version": "3.9.13"
  }
 },
 "nbformat": 4,
 "nbformat_minor": 5
}
