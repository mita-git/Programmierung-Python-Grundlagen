{
 "cells": [
  {
   "cell_type": "markdown",
   "id": "22291482",
   "metadata": {},
   "source": [
    "# Teil 08 - Dateien\n",
    "Quelle: Python für alle - ISBN 979-8-42547-509-1"
   ]
  },
  {
   "attachments": {
    "image.png": {
     "image/png": "[encoded data removed]"
    }
   },
   "cell_type": "markdown",
   "id": "adb660ee",
   "metadata": {},
   "source": [
    "![image.png](attachment:image.png)"
   ]
  },
  {
   "cell_type": "markdown",
   "id": "51e59da5",
   "metadata": {},
   "source": [
    "## Öffnen von Dateien"
   ]
  },
  {
   "cell_type": "code",
   "execution_count": 1,
   "id": "f11a17ba",
   "metadata": {},
   "outputs": [
    {
     "name": "stdout",
     "output_type": "stream",
     "text": [
      "<_io.TextIOWrapper name='TageWieDiese.txt' mode='r' encoding='cp1252'>\n"
     ]
    }
   ],
   "source": [
    "FileHandler = open('TageWieDiese.txt')\n",
    "print(FileHandler)"
   ]
  },
  {
   "cell_type": "code",
   "execution_count": 2,
   "id": "7b0d2f53",
   "metadata": {},
   "outputs": [
    {
     "name": "stdout",
     "output_type": "stream",
     "text": [
      "Fehler beim Datei öffnen\n"
     ]
    }
   ],
   "source": [
    "try:\n",
    "    FileHandler = open('TageWieDiese2.txt')\n",
    "except:\n",
    "    print(\"Fehler beim Datei öffnen\")"
   ]
  },
  {
   "cell_type": "markdown",
   "id": "47d4ea9b",
   "metadata": {},
   "source": [
    "## Lesen von Dateien"
   ]
  },
  {
   "cell_type": "code",
   "execution_count": 3,
   "id": "853841e7",
   "metadata": {},
   "outputs": [
    {
     "name": "stdout",
     "output_type": "stream",
     "text": [
      "Line Count: 69\n"
     ]
    }
   ],
   "source": [
    "try:\n",
    "    FileHandler = open('TageWieDiese.txt')\n",
    "    count = 0\n",
    "    for line in FileHandler:                   # in der For Schleife wird Zeile für Zeile .....\n",
    "        count = count + 1\n",
    "    print('Line Count:', count)                # Anzahl der Zeilen\n",
    "except:\n",
    "    print(\"Fehler beim Datei öffnen\")"
   ]
  },
  {
   "cell_type": "code",
   "execution_count": 4,
   "id": "dee75df2",
   "metadata": {
    "scrolled": true
   },
   "outputs": [
    {
     "name": "stdout",
     "output_type": "stream",
     "text": [
      "1497\n",
      "Tage wie diese\n",
      "\n",
      "Ich wart' seit Wochen\n",
      "Auf diesen Tag\n",
      "Und tanz' vor Freude, Ã¼ber den Asphalt\n",
      "Als wÃ¤r's ein Rhythmus\n",
      "Als gÃ¤b's ein Lied\n",
      "Dass mich immer weiter durch die StraÃŸen zieht\n",
      "Komm' dir entgegen\n",
      "Dich abzuholen\n",
      "Wie ausgemacht\n",
      "Zu derselben Uhrzeit\n",
      "Am selben Treffpunkt\n",
      "Wie letztes mal\n",
      "Durch das GedrÃ¤nge\n",
      "Der Menschenmenge\n",
      "Bahnen wir uns den altbekannten Weg\n",
      "Entlang der Gassen\n",
      "Zu den einen Terrassen\n",
      "Ãœber die BrÃ¼cken, bis hin zu der Musik\n",
      "Wo alles laut ist\n",
      "Wo alle drauf sind\n",
      "Um durchzudrehen\n",
      "Wo die anderen warten\n",
      "Um mit uns zu starten\n",
      "Und abzugehen\n",
      "An Tagen wie diesen\n",
      "WÃ¼nscht man sich Unendlichkeit\n",
      "An Tagen wie diesen\n",
      "Haben wir noch ewig Zeit\n",
      "WÃ¼nsch' ich mir Unendlichkeit\n",
      "Das hier ist ewig\n",
      "Ewig fÃ¼r heute\n",
      "Wir stehen nicht still\n",
      "FÃ¼r eine ganze Nacht\n",
      "Komm' ich trag' dich\n",
      "Durch die Leute\n",
      "Hab' keine Angst\n",
      "Ich gebe auf dich Acht\n",
      "Wir lassen uns treiben\n",
      "Tauchen unter\n",
      "Schwimmen mit dem Strom\n",
      "Drehen unsere Kreise\n",
      "Kommen nicht mehr runter\n",
      "Sind schwerelos\n",
      "An Tagen wie diesen\n",
      "WÃ¼nscht man sich Unendlichkeit\n",
      "An Tagen wie diesen\n",
      "Haben wir noch ewig Zeit\n",
      "In dieser Nacht der NÃ¤chte\n",
      "Die uns so viel verspricht\n",
      "Erleben wir das Beste\n",
      "Kein Ende ist in Sicht\n",
      "Kein Ende in Sicht\n",
      "Kein Ende in Sicht\n",
      "Kein Ende in Sicht\n",
      "An Tagen wie diesen\n",
      "WÃ¼nscht man sich Unendlichkeit\n",
      "An Tagen wie diesen\n",
      "Haben wir noch ewig Zeit\n",
      "In dieser Nacht der NÃ¤chte\n",
      "Die uns so viel verspricht\n",
      "Erleben wir das Beste\n",
      "Kein Ende ist in Sicht\n",
      "Erleben wir das Beste\n",
      "kein Ende in Sicht\n",
      "Kein Ende in Sicht\n",
      "\n",
      "Quelle: LyricFind\n"
     ]
    }
   ],
   "source": [
    "FileHandler = open('TageWieDiese.txt')\n",
    "inp = FileHandler.read()\n",
    "print(len(inp))                 # Die Anzahl der Zeichen\n",
    "# print(inp[:20])                 # die ersten 20 Zeichen\n",
    "print (inp)"
   ]
  },
  {
   "cell_type": "markdown",
   "id": "169e068e",
   "metadata": {},
   "source": [
    "Wir müssen daran denken, dass diese Form der open-Funktion nur verwendet werden <br>\n",
    "sollte, wenn die Dateidaten bequem in den Hauptspeicher unseres Computers passen.<br>"
   ]
  },
  {
   "cell_type": "code",
   "execution_count": 5,
   "id": "61fd18bb",
   "metadata": {},
   "outputs": [
    {
     "name": "stdout",
     "output_type": "stream",
     "text": [
      "['der', 'die', 'das']\n",
      "der ist 7 mal im Text\n",
      "die ist 16 mal im Text\n",
      "das ist 6 mal im Text\n"
     ]
    }
   ],
   "source": [
    "# Suche die Anzahl der bestimten Artike in dem Liedtext\n",
    "BestimteArtikel = ['der','die','das']\n",
    "print(BestimteArtikel)\n",
    "for Artikel in BestimteArtikel:\n",
    "    print(Artikel,'ist',inp.lower().count(Artikel),'mal im Text')\n",
    "    "
   ]
  },
  {
   "cell_type": "markdown",
   "id": "24d801d2",
   "metadata": {},
   "source": [
    "## Suchen in Dateien"
   ]
  },
  {
   "cell_type": "markdown",
   "id": "7f0559bf",
   "metadata": {},
   "source": [
    "### startswith()"
   ]
  },
  {
   "cell_type": "code",
   "execution_count": 6,
   "id": "558e727f",
   "metadata": {},
   "outputs": [
    {
     "name": "stdout",
     "output_type": "stream",
     "text": [
      "An Tagen wie diesen\n",
      "\n",
      "An Tagen wie diesen\n",
      "\n",
      "An Tagen wie diesen\n",
      "\n",
      "An Tagen wie diesen\n",
      "\n",
      "An Tagen wie diesen\n",
      "\n",
      "An Tagen wie diesen\n",
      "\n"
     ]
    }
   ],
   "source": [
    "fhand = open('TageWieDiese.txt')\n",
    "count = 0\n",
    "for line in fhand:\n",
    "    if line.startswith('An'):                 ###\n",
    "        print(line)"
   ]
  },
  {
   "cell_type": "markdown",
   "id": "815fcfef",
   "metadata": {},
   "source": [
    "### rstrip()\n",
    "\n",
    "**Zeilen ende Löschen**"
   ]
  },
  {
   "cell_type": "code",
   "execution_count": 7,
   "id": "e3de7196",
   "metadata": {},
   "outputs": [
    {
     "name": "stdout",
     "output_type": "stream",
     "text": [
      "An Tagen wie diesen\n",
      "An Tagen wie diesen\n",
      "An Tagen wie diesen\n",
      "An Tagen wie diesen\n",
      "An Tagen wie diesen\n",
      "An Tagen wie diesen\n"
     ]
    }
   ],
   "source": [
    "fhand = open('TageWieDiese.txt')\n",
    "count = 0\n",
    "for line in fhand:\n",
    "    line = line.rstrip()                       ###\n",
    "    if line.startswith('An'):\n",
    "        print(line)"
   ]
  },
  {
   "cell_type": "markdown",
   "id": "16129599",
   "metadata": {},
   "source": [
    "**Wir können die Schleife wie folgt strukturieren, um uninteressante Zeilen zu überspringen:**"
   ]
  },
  {
   "cell_type": "code",
   "execution_count": 8,
   "id": "2784b36c",
   "metadata": {},
   "outputs": [
    {
     "name": "stdout",
     "output_type": "stream",
     "text": [
      "Tage wie diese\n",
      "\n",
      "Ich wart' seit Wochen\n",
      "Auf diesen Tag\n",
      "Und tanz' vor Freude, Ã¼ber den Asphalt\n",
      "Als wÃ¤r's ein Rhythmus\n",
      "Als gÃ¤b's ein Lied\n",
      "Dass mich immer weiter durch die StraÃŸen zieht\n",
      "Komm' dir entgegen\n",
      "Dich abzuholen\n",
      "Wie ausgemacht\n",
      "Zu derselben Uhrzeit\n",
      "Am selben Treffpunkt\n",
      "Wie letztes mal\n",
      "Durch das GedrÃ¤nge\n",
      "Der Menschenmenge\n",
      "Bahnen wir uns den altbekannten Weg\n",
      "Entlang der Gassen\n",
      "Zu den einen Terrassen\n",
      "Ãœber die BrÃ¼cken, bis hin zu der Musik\n",
      "Wo alles laut ist\n",
      "Wo alle drauf sind\n",
      "Um durchzudrehen\n",
      "Wo die anderen warten\n",
      "Um mit uns zu starten\n",
      "Und abzugehen\n",
      "WÃ¼nscht man sich Unendlichkeit\n",
      "Haben wir noch ewig Zeit\n",
      "WÃ¼nsch' ich mir Unendlichkeit\n",
      "Das hier ist ewig\n",
      "Ewig fÃ¼r heute\n",
      "Wir stehen nicht still\n",
      "FÃ¼r eine ganze Nacht\n",
      "Komm' ich trag' dich\n",
      "Durch die Leute\n",
      "Hab' keine Angst\n",
      "Ich gebe auf dich Acht\n",
      "Wir lassen uns treiben\n",
      "Tauchen unter\n",
      "Schwimmen mit dem Strom\n",
      "Drehen unsere Kreise\n",
      "Kommen nicht mehr runter\n",
      "Sind schwerelos\n",
      "WÃ¼nscht man sich Unendlichkeit\n",
      "Haben wir noch ewig Zeit\n",
      "In dieser Nacht der NÃ¤chte\n",
      "Die uns so viel verspricht\n",
      "Erleben wir das Beste\n",
      "Kein Ende ist in Sicht\n",
      "Kein Ende in Sicht\n",
      "Kein Ende in Sicht\n",
      "Kein Ende in Sicht\n",
      "WÃ¼nscht man sich Unendlichkeit\n",
      "Haben wir noch ewig Zeit\n",
      "In dieser Nacht der NÃ¤chte\n",
      "Die uns so viel verspricht\n",
      "Erleben wir das Beste\n",
      "Kein Ende ist in Sicht\n",
      "Erleben wir das Beste\n",
      "kein Ende in Sicht\n",
      "Kein Ende in Sicht\n",
      "\n",
      "Quelle: LyricFind\n"
     ]
    }
   ],
   "source": [
    "fhand = open('TageWieDiese.txt')\n",
    "count = 0\n",
    "for line in fhand:\n",
    "    line = line.rstrip()                       ###\n",
    "    if line.startswith('An'):\n",
    "        continue                               ### ohne \"An Tagen wie diesen\" \n",
    "    print(line)"
   ]
  },
  {
   "cell_type": "markdown",
   "id": "90bce3d1",
   "metadata": {},
   "source": [
    "## Wahl des Dateinamens durch den Benutzer"
   ]
  },
  {
   "cell_type": "markdown",
   "id": "e0d2f426",
   "metadata": {},
   "source": [
    "Verwendung von try, except und open s.o."
   ]
  },
  {
   "cell_type": "code",
   "execution_count": 9,
   "id": "7216eb83",
   "metadata": {},
   "outputs": [
    {
     "name": "stdout",
     "output_type": "stream",
     "text": [
      "Gib eine Datei an: abc\n",
      "Datei abc konnte nicht geoeffnet werden\n"
     ]
    }
   ],
   "source": [
    "fname = input('Gib eine Datei an: ')\n",
    "try:\n",
    "    fhand = open(fname)\n",
    "\n",
    "    count = 0\n",
    "    for line in fhand:\n",
    "        if line.startswith('Subject:'):\n",
    "            count = count + 1\n",
    "    print(f'Es gibt {count} Betreffzeilen in {fname}')\n",
    "except:\n",
    "    print(f'Datei {fname} konnte nicht geoeffnet werden')\n",
    "    # exit()"
   ]
  },
  {
   "cell_type": "code",
   "execution_count": 10,
   "id": "55b13d8c",
   "metadata": {
    "scrolled": true
   },
   "outputs": [
    {
     "name": "stdout",
     "output_type": "stream",
     "text": [
      "C:/Users/micha/ki-studium/Programmieren/Pro_Ki-Klausurvorbereitung/Grundlagen-der-Programmierung/Neu.txt\n"
     ]
    }
   ],
   "source": [
    "from tkinter.filedialog import askopenfilename\n",
    "\n",
    "filepath = askopenfilename ( \n",
    "    # Dateitypen die geöffnet werden können\n",
    "    filetypes=[(\"Text\", \"*.txt\")]\n",
    ")\n",
    "print(filepath)\n",
    "quit()"
   ]
  },
  {
   "cell_type": "markdown",
   "id": "7d775d12",
   "metadata": {},
   "source": [
    "## Schreiben von Dateien"
   ]
  },
  {
   "cell_type": "markdown",
   "id": "f47c1e0a",
   "metadata": {},
   "source": [
    "### Öffnen"
   ]
  },
  {
   "cell_type": "code",
   "execution_count": 11,
   "id": "bec4c8a4",
   "metadata": {},
   "outputs": [
    {
     "name": "stdout",
     "output_type": "stream",
     "text": [
      "<_io.TextIOWrapper name='output.txt' mode='w' encoding='cp1252'>\n"
     ]
    }
   ],
   "source": [
    "fout = open('output.txt', 'w')\n",
    "print(fout)\n"
   ]
  },
  {
   "cell_type": "markdown",
   "id": "66c0e2fb",
   "metadata": {},
   "source": [
    "### schreiben"
   ]
  },
  {
   "cell_type": "code",
   "execution_count": 12,
   "id": "1f20632e",
   "metadata": {},
   "outputs": [
    {
     "data": {
      "text/plain": [
       "24"
      ]
     },
     "execution_count": 12,
     "metadata": {},
     "output_type": "execute_result"
    }
   ],
   "source": [
    "line1 = \"This here's the wattle,\\n\"\n",
    "fout.write(line1)"
   ]
  },
  {
   "cell_type": "markdown",
   "id": "46a83e19",
   "metadata": {},
   "source": [
    "### schließen"
   ]
  },
  {
   "cell_type": "code",
   "execution_count": 13,
   "id": "cf76d526",
   "metadata": {},
   "outputs": [],
   "source": [
    "fout.close()"
   ]
  }
 ],
 "metadata": {
  "kernelspec": {
   "display_name": "Python 3 (ipykernel)",
   "language": "python",
   "name": "python3"
  },
  "language_info": {
   "codemirror_mode": {
    "name": "ipython",
    "version": 3
   },
   "file_extension": ".py",
   "mimetype": "text/x-python",
   "name": "python",
   "nbconvert_exporter": "python",
   "pygments_lexer": "ipython3",
   "version": "3.9.13"
  }
 },
 "nbformat": 4,
 "nbformat_minor": 5
}
